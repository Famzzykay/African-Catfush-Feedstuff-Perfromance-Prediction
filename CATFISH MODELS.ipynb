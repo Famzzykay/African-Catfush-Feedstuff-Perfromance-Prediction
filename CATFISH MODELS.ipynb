{
 "cells": [
  {
   "cell_type": "code",
   "execution_count": 214,
   "metadata": {},
   "outputs": [],
   "source": [
    "import numpy as np\n",
    "import pandas as pd\n",
    "import xlrd\n",
    "import matplotlib.pyplot as plt\n",
    "import matplotlib as mpl\n",
    "import seaborn as sns\n",
    "%matplotlib inline\n",
    "import pylab as pl\n",
    "from sklearn import linear_model"
   ]
  },
  {
   "cell_type": "code",
   "execution_count": 215,
   "metadata": {},
   "outputs": [],
   "source": [
    "filepath= 'file:///C:/Users/NEW%20USER/Downloads/LOG%20REG%20FOR%20CATFISH%20(Autosaved).xlsx'\n",
    "df= pd.read_excel(filepath, sheet_name= 'Sheet2', skiprows= 1)"
   ]
  },
  {
   "cell_type": "code",
   "execution_count": 216,
   "metadata": {},
   "outputs": [
    {
     "data": {
      "text/html": [
       "<div>\n",
       "<style scoped>\n",
       "    .dataframe tbody tr th:only-of-type {\n",
       "        vertical-align: middle;\n",
       "    }\n",
       "\n",
       "    .dataframe tbody tr th {\n",
       "        vertical-align: top;\n",
       "    }\n",
       "\n",
       "    .dataframe thead th {\n",
       "        text-align: right;\n",
       "    }\n",
       "</style>\n",
       "<table border=\"1\" class=\"dataframe\">\n",
       "  <thead>\n",
       "    <tr style=\"text-align: right;\">\n",
       "      <th></th>\n",
       "      <th>Unnamed: 0</th>\n",
       "      <th>DATA SOURCE</th>\n",
       "      <th>protein feedstuff</th>\n",
       "      <th>percentage_inclusion</th>\n",
       "      <th>Culture_period</th>\n",
       "      <th>Fish_weight</th>\n",
       "      <th>moisture</th>\n",
       "      <th>Crude_fibre</th>\n",
       "      <th>NFE</th>\n",
       "      <th>Unnamed: 9</th>\n",
       "      <th>protein</th>\n",
       "      <th>Fat</th>\n",
       "      <th>Ash Content</th>\n",
       "      <th>WG</th>\n",
       "      <th>FCR</th>\n",
       "      <th>SGR</th>\n",
       "      <th>PER</th>\n",
       "    </tr>\n",
       "  </thead>\n",
       "  <tbody>\n",
       "    <tr>\n",
       "      <th>count</th>\n",
       "      <td>0.0</td>\n",
       "      <td>4</td>\n",
       "      <td>12</td>\n",
       "      <td>12.000000</td>\n",
       "      <td>12.000000</td>\n",
       "      <td>12.000000</td>\n",
       "      <td>12.000000</td>\n",
       "      <td>10.000000</td>\n",
       "      <td>7.000000</td>\n",
       "      <td>0.0</td>\n",
       "      <td>12.000000</td>\n",
       "      <td>12.000000</td>\n",
       "      <td>12.000000</td>\n",
       "      <td>12.000000</td>\n",
       "      <td>12.000000</td>\n",
       "      <td>12.000000</td>\n",
       "      <td>12.000000</td>\n",
       "    </tr>\n",
       "    <tr>\n",
       "      <th>unique</th>\n",
       "      <td>NaN</td>\n",
       "      <td>4</td>\n",
       "      <td>8</td>\n",
       "      <td>NaN</td>\n",
       "      <td>NaN</td>\n",
       "      <td>NaN</td>\n",
       "      <td>NaN</td>\n",
       "      <td>NaN</td>\n",
       "      <td>NaN</td>\n",
       "      <td>NaN</td>\n",
       "      <td>NaN</td>\n",
       "      <td>NaN</td>\n",
       "      <td>NaN</td>\n",
       "      <td>NaN</td>\n",
       "      <td>NaN</td>\n",
       "      <td>NaN</td>\n",
       "      <td>NaN</td>\n",
       "    </tr>\n",
       "    <tr>\n",
       "      <th>top</th>\n",
       "      <td>NaN</td>\n",
       "      <td>chukwuemeka</td>\n",
       "      <td>fish meal</td>\n",
       "      <td>NaN</td>\n",
       "      <td>NaN</td>\n",
       "      <td>NaN</td>\n",
       "      <td>NaN</td>\n",
       "      <td>NaN</td>\n",
       "      <td>NaN</td>\n",
       "      <td>NaN</td>\n",
       "      <td>NaN</td>\n",
       "      <td>NaN</td>\n",
       "      <td>NaN</td>\n",
       "      <td>NaN</td>\n",
       "      <td>NaN</td>\n",
       "      <td>NaN</td>\n",
       "      <td>NaN</td>\n",
       "    </tr>\n",
       "    <tr>\n",
       "      <th>freq</th>\n",
       "      <td>NaN</td>\n",
       "      <td>1</td>\n",
       "      <td>3</td>\n",
       "      <td>NaN</td>\n",
       "      <td>NaN</td>\n",
       "      <td>NaN</td>\n",
       "      <td>NaN</td>\n",
       "      <td>NaN</td>\n",
       "      <td>NaN</td>\n",
       "      <td>NaN</td>\n",
       "      <td>NaN</td>\n",
       "      <td>NaN</td>\n",
       "      <td>NaN</td>\n",
       "      <td>NaN</td>\n",
       "      <td>NaN</td>\n",
       "      <td>NaN</td>\n",
       "      <td>NaN</td>\n",
       "    </tr>\n",
       "    <tr>\n",
       "      <th>mean</th>\n",
       "      <td>NaN</td>\n",
       "      <td>NaN</td>\n",
       "      <td>NaN</td>\n",
       "      <td>20.811667</td>\n",
       "      <td>10.166667</td>\n",
       "      <td>8.683333</td>\n",
       "      <td>8.898333</td>\n",
       "      <td>4.811000</td>\n",
       "      <td>25.850000</td>\n",
       "      <td>NaN</td>\n",
       "      <td>39.780833</td>\n",
       "      <td>7.116667</td>\n",
       "      <td>25.621667</td>\n",
       "      <td>312.917500</td>\n",
       "      <td>1.535000</td>\n",
       "      <td>2.556667</td>\n",
       "      <td>1.306667</td>\n",
       "    </tr>\n",
       "    <tr>\n",
       "      <th>std</th>\n",
       "      <td>NaN</td>\n",
       "      <td>NaN</td>\n",
       "      <td>NaN</td>\n",
       "      <td>13.204714</td>\n",
       "      <td>3.010084</td>\n",
       "      <td>6.623455</td>\n",
       "      <td>1.873935</td>\n",
       "      <td>0.783205</td>\n",
       "      <td>2.208303</td>\n",
       "      <td>NaN</td>\n",
       "      <td>2.521837</td>\n",
       "      <td>2.623878</td>\n",
       "      <td>28.799747</td>\n",
       "      <td>281.339198</td>\n",
       "      <td>1.436653</td>\n",
       "      <td>2.721582</td>\n",
       "      <td>0.970439</td>\n",
       "    </tr>\n",
       "    <tr>\n",
       "      <th>min</th>\n",
       "      <td>NaN</td>\n",
       "      <td>NaN</td>\n",
       "      <td>NaN</td>\n",
       "      <td>9.860000</td>\n",
       "      <td>4.000000</td>\n",
       "      <td>2.850000</td>\n",
       "      <td>4.780000</td>\n",
       "      <td>3.740000</td>\n",
       "      <td>22.630000</td>\n",
       "      <td>NaN</td>\n",
       "      <td>35.960000</td>\n",
       "      <td>4.360000</td>\n",
       "      <td>8.000000</td>\n",
       "      <td>122.600000</td>\n",
       "      <td>0.620000</td>\n",
       "      <td>0.690000</td>\n",
       "      <td>0.460000</td>\n",
       "    </tr>\n",
       "    <tr>\n",
       "      <th>25%</th>\n",
       "      <td>NaN</td>\n",
       "      <td>NaN</td>\n",
       "      <td>NaN</td>\n",
       "      <td>13.000000</td>\n",
       "      <td>10.000000</td>\n",
       "      <td>5.000000</td>\n",
       "      <td>9.140000</td>\n",
       "      <td>4.125000</td>\n",
       "      <td>24.450000</td>\n",
       "      <td>NaN</td>\n",
       "      <td>38.042500</td>\n",
       "      <td>4.925000</td>\n",
       "      <td>12.172500</td>\n",
       "      <td>150.700000</td>\n",
       "      <td>0.680000</td>\n",
       "      <td>0.957500</td>\n",
       "      <td>0.542500</td>\n",
       "    </tr>\n",
       "    <tr>\n",
       "      <th>50%</th>\n",
       "      <td>NaN</td>\n",
       "      <td>NaN</td>\n",
       "      <td>NaN</td>\n",
       "      <td>13.465000</td>\n",
       "      <td>12.000000</td>\n",
       "      <td>5.000000</td>\n",
       "      <td>9.825000</td>\n",
       "      <td>5.045000</td>\n",
       "      <td>25.470000</td>\n",
       "      <td>NaN</td>\n",
       "      <td>40.010000</td>\n",
       "      <td>6.060000</td>\n",
       "      <td>15.830000</td>\n",
       "      <td>220.935000</td>\n",
       "      <td>1.155000</td>\n",
       "      <td>1.090000</td>\n",
       "      <td>0.570000</td>\n",
       "    </tr>\n",
       "    <tr>\n",
       "      <th>75%</th>\n",
       "      <td>NaN</td>\n",
       "      <td>NaN</td>\n",
       "      <td>NaN</td>\n",
       "      <td>25.000000</td>\n",
       "      <td>12.000000</td>\n",
       "      <td>10.000000</td>\n",
       "      <td>9.892500</td>\n",
       "      <td>5.525000</td>\n",
       "      <td>27.750000</td>\n",
       "      <td>NaN</td>\n",
       "      <td>40.745000</td>\n",
       "      <td>9.035000</td>\n",
       "      <td>16.070000</td>\n",
       "      <td>272.525000</td>\n",
       "      <td>1.265000</td>\n",
       "      <td>2.552500</td>\n",
       "      <td>2.257500</td>\n",
       "    </tr>\n",
       "    <tr>\n",
       "      <th>max</th>\n",
       "      <td>NaN</td>\n",
       "      <td>NaN</td>\n",
       "      <td>NaN</td>\n",
       "      <td>56.650000</td>\n",
       "      <td>12.000000</td>\n",
       "      <td>21.800000</td>\n",
       "      <td>9.960000</td>\n",
       "      <td>5.600000</td>\n",
       "      <td>28.450000</td>\n",
       "      <td>NaN</td>\n",
       "      <td>44.200000</td>\n",
       "      <td>11.450000</td>\n",
       "      <td>87.400000</td>\n",
       "      <td>999.620000</td>\n",
       "      <td>5.070000</td>\n",
       "      <td>8.560000</td>\n",
       "      <td>2.600000</td>\n",
       "    </tr>\n",
       "  </tbody>\n",
       "</table>\n",
       "</div>"
      ],
      "text/plain": [
       "        Unnamed: 0  DATA SOURCE protein feedstuff  percentage_inclusion  \\\n",
       "count          0.0            4                12             12.000000   \n",
       "unique         NaN            4                 8                   NaN   \n",
       "top            NaN  chukwuemeka         fish meal                   NaN   \n",
       "freq           NaN            1                 3                   NaN   \n",
       "mean           NaN          NaN               NaN             20.811667   \n",
       "std            NaN          NaN               NaN             13.204714   \n",
       "min            NaN          NaN               NaN              9.860000   \n",
       "25%            NaN          NaN               NaN             13.000000   \n",
       "50%            NaN          NaN               NaN             13.465000   \n",
       "75%            NaN          NaN               NaN             25.000000   \n",
       "max            NaN          NaN               NaN             56.650000   \n",
       "\n",
       "        Culture_period  Fish_weight   moisture  Crude_fibre        NFE  \\\n",
       "count        12.000000    12.000000  12.000000    10.000000   7.000000   \n",
       "unique             NaN          NaN        NaN          NaN        NaN   \n",
       "top                NaN          NaN        NaN          NaN        NaN   \n",
       "freq               NaN          NaN        NaN          NaN        NaN   \n",
       "mean         10.166667     8.683333   8.898333     4.811000  25.850000   \n",
       "std           3.010084     6.623455   1.873935     0.783205   2.208303   \n",
       "min           4.000000     2.850000   4.780000     3.740000  22.630000   \n",
       "25%          10.000000     5.000000   9.140000     4.125000  24.450000   \n",
       "50%          12.000000     5.000000   9.825000     5.045000  25.470000   \n",
       "75%          12.000000    10.000000   9.892500     5.525000  27.750000   \n",
       "max          12.000000    21.800000   9.960000     5.600000  28.450000   \n",
       "\n",
       "        Unnamed: 9    protein        Fat  Ash Content          WG        FCR  \\\n",
       "count          0.0  12.000000  12.000000    12.000000   12.000000  12.000000   \n",
       "unique         NaN        NaN        NaN          NaN         NaN        NaN   \n",
       "top            NaN        NaN        NaN          NaN         NaN        NaN   \n",
       "freq           NaN        NaN        NaN          NaN         NaN        NaN   \n",
       "mean           NaN  39.780833   7.116667    25.621667  312.917500   1.535000   \n",
       "std            NaN   2.521837   2.623878    28.799747  281.339198   1.436653   \n",
       "min            NaN  35.960000   4.360000     8.000000  122.600000   0.620000   \n",
       "25%            NaN  38.042500   4.925000    12.172500  150.700000   0.680000   \n",
       "50%            NaN  40.010000   6.060000    15.830000  220.935000   1.155000   \n",
       "75%            NaN  40.745000   9.035000    16.070000  272.525000   1.265000   \n",
       "max            NaN  44.200000  11.450000    87.400000  999.620000   5.070000   \n",
       "\n",
       "              SGR        PER  \n",
       "count   12.000000  12.000000  \n",
       "unique        NaN        NaN  \n",
       "top           NaN        NaN  \n",
       "freq          NaN        NaN  \n",
       "mean     2.556667   1.306667  \n",
       "std      2.721582   0.970439  \n",
       "min      0.690000   0.460000  \n",
       "25%      0.957500   0.542500  \n",
       "50%      1.090000   0.570000  \n",
       "75%      2.552500   2.257500  \n",
       "max      8.560000   2.600000  "
      ]
     },
     "execution_count": 216,
     "metadata": {},
     "output_type": "execute_result"
    }
   ],
   "source": [
    "df.describe(include= 'all')\n"
   ]
  },
  {
   "cell_type": "code",
   "execution_count": 217,
   "metadata": {},
   "outputs": [
    {
     "name": "stdout",
     "output_type": "stream",
     "text": [
      "<class 'pandas.core.frame.DataFrame'>\n",
      "RangeIndex: 12 entries, 0 to 11\n",
      "Data columns (total 17 columns):\n",
      " #   Column                Non-Null Count  Dtype  \n",
      "---  ------                --------------  -----  \n",
      " 0   Unnamed: 0            0 non-null      float64\n",
      " 1   DATA SOURCE           4 non-null      object \n",
      " 2   protein feedstuff     12 non-null     object \n",
      " 3   percentage_inclusion  12 non-null     float64\n",
      " 4   Culture_period        12 non-null     int64  \n",
      " 5   Fish_weight           12 non-null     float64\n",
      " 6   moisture              12 non-null     float64\n",
      " 7   Crude_fibre           10 non-null     float64\n",
      " 8   NFE                   7 non-null      float64\n",
      " 9   Unnamed: 9            0 non-null      float64\n",
      " 10  protein               12 non-null     float64\n",
      " 11  Fat                   12 non-null     float64\n",
      " 12  Ash Content           12 non-null     float64\n",
      " 13  WG                    12 non-null     float64\n",
      " 14  FCR                   12 non-null     float64\n",
      " 15  SGR                   12 non-null     float64\n",
      " 16  PER                   12 non-null     float64\n",
      "dtypes: float64(14), int64(1), object(2)\n",
      "memory usage: 1.7+ KB\n"
     ]
    }
   ],
   "source": [
    "df.info()"
   ]
  },
  {
   "cell_type": "code",
   "execution_count": 218,
   "metadata": {},
   "outputs": [
    {
     "data": {
      "text/html": [
       "<div>\n",
       "<style scoped>\n",
       "    .dataframe tbody tr th:only-of-type {\n",
       "        vertical-align: middle;\n",
       "    }\n",
       "\n",
       "    .dataframe tbody tr th {\n",
       "        vertical-align: top;\n",
       "    }\n",
       "\n",
       "    .dataframe thead th {\n",
       "        text-align: right;\n",
       "    }\n",
       "</style>\n",
       "<table border=\"1\" class=\"dataframe\">\n",
       "  <thead>\n",
       "    <tr style=\"text-align: right;\">\n",
       "      <th></th>\n",
       "      <th>Unnamed: 0</th>\n",
       "      <th>percentage_inclusion</th>\n",
       "      <th>Culture_period</th>\n",
       "      <th>Fish_weight</th>\n",
       "      <th>moisture</th>\n",
       "      <th>Crude_fibre</th>\n",
       "      <th>NFE</th>\n",
       "      <th>Unnamed: 9</th>\n",
       "      <th>protein</th>\n",
       "      <th>Fat</th>\n",
       "      <th>Ash Content</th>\n",
       "      <th>WG</th>\n",
       "      <th>FCR</th>\n",
       "      <th>SGR</th>\n",
       "      <th>PER</th>\n",
       "    </tr>\n",
       "  </thead>\n",
       "  <tbody>\n",
       "    <tr>\n",
       "      <th>Unnamed: 0</th>\n",
       "      <td>NaN</td>\n",
       "      <td>NaN</td>\n",
       "      <td>NaN</td>\n",
       "      <td>NaN</td>\n",
       "      <td>NaN</td>\n",
       "      <td>NaN</td>\n",
       "      <td>NaN</td>\n",
       "      <td>NaN</td>\n",
       "      <td>NaN</td>\n",
       "      <td>NaN</td>\n",
       "      <td>NaN</td>\n",
       "      <td>NaN</td>\n",
       "      <td>NaN</td>\n",
       "      <td>NaN</td>\n",
       "      <td>NaN</td>\n",
       "    </tr>\n",
       "    <tr>\n",
       "      <th>percentage_inclusion</th>\n",
       "      <td>NaN</td>\n",
       "      <td>1.000000</td>\n",
       "      <td>-0.455659</td>\n",
       "      <td>0.168444</td>\n",
       "      <td>-0.472363</td>\n",
       "      <td>-0.679643</td>\n",
       "      <td>-0.371293</td>\n",
       "      <td>NaN</td>\n",
       "      <td>0.384604</td>\n",
       "      <td>0.381629</td>\n",
       "      <td>0.409341</td>\n",
       "      <td>0.600550</td>\n",
       "      <td>0.324120</td>\n",
       "      <td>0.487845</td>\n",
       "      <td>0.289586</td>\n",
       "    </tr>\n",
       "    <tr>\n",
       "      <th>Culture_period</th>\n",
       "      <td>NaN</td>\n",
       "      <td>-0.455659</td>\n",
       "      <td>1.000000</td>\n",
       "      <td>0.389557</td>\n",
       "      <td>0.955447</td>\n",
       "      <td>0.071367</td>\n",
       "      <td>NaN</td>\n",
       "      <td>NaN</td>\n",
       "      <td>-0.043613</td>\n",
       "      <td>-0.897954</td>\n",
       "      <td>-0.926296</td>\n",
       "      <td>-0.962243</td>\n",
       "      <td>0.129707</td>\n",
       "      <td>-0.996885</td>\n",
       "      <td>-0.633426</td>\n",
       "    </tr>\n",
       "    <tr>\n",
       "      <th>Fish_weight</th>\n",
       "      <td>NaN</td>\n",
       "      <td>0.168444</td>\n",
       "      <td>0.389557</td>\n",
       "      <td>1.000000</td>\n",
       "      <td>0.318306</td>\n",
       "      <td>-0.781319</td>\n",
       "      <td>-0.347324</td>\n",
       "      <td>NaN</td>\n",
       "      <td>0.819206</td>\n",
       "      <td>-0.382026</td>\n",
       "      <td>-0.444672</td>\n",
       "      <td>-0.272261</td>\n",
       "      <td>0.909539</td>\n",
       "      <td>-0.415082</td>\n",
       "      <td>-0.150043</td>\n",
       "    </tr>\n",
       "    <tr>\n",
       "      <th>moisture</th>\n",
       "      <td>NaN</td>\n",
       "      <td>-0.472363</td>\n",
       "      <td>0.955447</td>\n",
       "      <td>0.318306</td>\n",
       "      <td>1.000000</td>\n",
       "      <td>0.445696</td>\n",
       "      <td>0.055056</td>\n",
       "      <td>NaN</td>\n",
       "      <td>-0.062533</td>\n",
       "      <td>-0.760947</td>\n",
       "      <td>-0.971494</td>\n",
       "      <td>-0.983213</td>\n",
       "      <td>0.015607</td>\n",
       "      <td>-0.963291</td>\n",
       "      <td>-0.422485</td>\n",
       "    </tr>\n",
       "    <tr>\n",
       "      <th>Crude_fibre</th>\n",
       "      <td>NaN</td>\n",
       "      <td>-0.679643</td>\n",
       "      <td>0.071367</td>\n",
       "      <td>-0.781319</td>\n",
       "      <td>0.445696</td>\n",
       "      <td>1.000000</td>\n",
       "      <td>0.025792</td>\n",
       "      <td>NaN</td>\n",
       "      <td>-0.684152</td>\n",
       "      <td>0.114167</td>\n",
       "      <td>0.304301</td>\n",
       "      <td>-0.485854</td>\n",
       "      <td>-0.741280</td>\n",
       "      <td>0.015694</td>\n",
       "      <td>-0.057322</td>\n",
       "    </tr>\n",
       "    <tr>\n",
       "      <th>NFE</th>\n",
       "      <td>NaN</td>\n",
       "      <td>-0.371293</td>\n",
       "      <td>NaN</td>\n",
       "      <td>-0.347324</td>\n",
       "      <td>0.055056</td>\n",
       "      <td>0.025792</td>\n",
       "      <td>1.000000</td>\n",
       "      <td>NaN</td>\n",
       "      <td>-0.671174</td>\n",
       "      <td>-0.646539</td>\n",
       "      <td>0.249806</td>\n",
       "      <td>-0.333355</td>\n",
       "      <td>-0.368822</td>\n",
       "      <td>0.361076</td>\n",
       "      <td>-0.060136</td>\n",
       "    </tr>\n",
       "    <tr>\n",
       "      <th>Unnamed: 9</th>\n",
       "      <td>NaN</td>\n",
       "      <td>NaN</td>\n",
       "      <td>NaN</td>\n",
       "      <td>NaN</td>\n",
       "      <td>NaN</td>\n",
       "      <td>NaN</td>\n",
       "      <td>NaN</td>\n",
       "      <td>NaN</td>\n",
       "      <td>NaN</td>\n",
       "      <td>NaN</td>\n",
       "      <td>NaN</td>\n",
       "      <td>NaN</td>\n",
       "      <td>NaN</td>\n",
       "      <td>NaN</td>\n",
       "      <td>NaN</td>\n",
       "    </tr>\n",
       "    <tr>\n",
       "      <th>protein</th>\n",
       "      <td>NaN</td>\n",
       "      <td>0.384604</td>\n",
       "      <td>-0.043613</td>\n",
       "      <td>0.819206</td>\n",
       "      <td>-0.062533</td>\n",
       "      <td>-0.684152</td>\n",
       "      <td>-0.671174</td>\n",
       "      <td>NaN</td>\n",
       "      <td>1.000000</td>\n",
       "      <td>0.103002</td>\n",
       "      <td>-0.073082</td>\n",
       "      <td>0.134856</td>\n",
       "      <td>0.821461</td>\n",
       "      <td>0.013027</td>\n",
       "      <td>0.192039</td>\n",
       "    </tr>\n",
       "    <tr>\n",
       "      <th>Fat</th>\n",
       "      <td>NaN</td>\n",
       "      <td>0.381629</td>\n",
       "      <td>-0.897954</td>\n",
       "      <td>-0.382026</td>\n",
       "      <td>-0.760947</td>\n",
       "      <td>0.114167</td>\n",
       "      <td>-0.646539</td>\n",
       "      <td>NaN</td>\n",
       "      <td>0.103002</td>\n",
       "      <td>1.000000</td>\n",
       "      <td>0.694794</td>\n",
       "      <td>0.800318</td>\n",
       "      <td>-0.261547</td>\n",
       "      <td>0.884321</td>\n",
       "      <td>0.863797</td>\n",
       "    </tr>\n",
       "    <tr>\n",
       "      <th>Ash Content</th>\n",
       "      <td>NaN</td>\n",
       "      <td>0.409341</td>\n",
       "      <td>-0.926296</td>\n",
       "      <td>-0.444672</td>\n",
       "      <td>-0.971494</td>\n",
       "      <td>0.304301</td>\n",
       "      <td>0.249806</td>\n",
       "      <td>NaN</td>\n",
       "      <td>-0.073082</td>\n",
       "      <td>0.694794</td>\n",
       "      <td>1.000000</td>\n",
       "      <td>0.941579</td>\n",
       "      <td>-0.098137</td>\n",
       "      <td>0.937096</td>\n",
       "      <td>0.297304</td>\n",
       "    </tr>\n",
       "    <tr>\n",
       "      <th>WG</th>\n",
       "      <td>NaN</td>\n",
       "      <td>0.600550</td>\n",
       "      <td>-0.962243</td>\n",
       "      <td>-0.272261</td>\n",
       "      <td>-0.983213</td>\n",
       "      <td>-0.485854</td>\n",
       "      <td>-0.333355</td>\n",
       "      <td>NaN</td>\n",
       "      <td>0.134856</td>\n",
       "      <td>0.800318</td>\n",
       "      <td>0.941579</td>\n",
       "      <td>1.000000</td>\n",
       "      <td>0.012711</td>\n",
       "      <td>0.973013</td>\n",
       "      <td>0.498420</td>\n",
       "    </tr>\n",
       "    <tr>\n",
       "      <th>FCR</th>\n",
       "      <td>NaN</td>\n",
       "      <td>0.324120</td>\n",
       "      <td>0.129707</td>\n",
       "      <td>0.909539</td>\n",
       "      <td>0.015607</td>\n",
       "      <td>-0.741280</td>\n",
       "      <td>-0.368822</td>\n",
       "      <td>NaN</td>\n",
       "      <td>0.821461</td>\n",
       "      <td>-0.261547</td>\n",
       "      <td>-0.098137</td>\n",
       "      <td>0.012711</td>\n",
       "      <td>1.000000</td>\n",
       "      <td>-0.151473</td>\n",
       "      <td>-0.211626</td>\n",
       "    </tr>\n",
       "    <tr>\n",
       "      <th>SGR</th>\n",
       "      <td>NaN</td>\n",
       "      <td>0.487845</td>\n",
       "      <td>-0.996885</td>\n",
       "      <td>-0.415082</td>\n",
       "      <td>-0.963291</td>\n",
       "      <td>0.015694</td>\n",
       "      <td>0.361076</td>\n",
       "      <td>NaN</td>\n",
       "      <td>0.013027</td>\n",
       "      <td>0.884321</td>\n",
       "      <td>0.937096</td>\n",
       "      <td>0.973013</td>\n",
       "      <td>-0.151473</td>\n",
       "      <td>1.000000</td>\n",
       "      <td>0.606544</td>\n",
       "    </tr>\n",
       "    <tr>\n",
       "      <th>PER</th>\n",
       "      <td>NaN</td>\n",
       "      <td>0.289586</td>\n",
       "      <td>-0.633426</td>\n",
       "      <td>-0.150043</td>\n",
       "      <td>-0.422485</td>\n",
       "      <td>-0.057322</td>\n",
       "      <td>-0.060136</td>\n",
       "      <td>NaN</td>\n",
       "      <td>0.192039</td>\n",
       "      <td>0.863797</td>\n",
       "      <td>0.297304</td>\n",
       "      <td>0.498420</td>\n",
       "      <td>-0.211626</td>\n",
       "      <td>0.606544</td>\n",
       "      <td>1.000000</td>\n",
       "    </tr>\n",
       "  </tbody>\n",
       "</table>\n",
       "</div>"
      ],
      "text/plain": [
       "                      Unnamed: 0  percentage_inclusion  Culture_period  \\\n",
       "Unnamed: 0                   NaN                   NaN             NaN   \n",
       "percentage_inclusion         NaN              1.000000       -0.455659   \n",
       "Culture_period               NaN             -0.455659        1.000000   \n",
       "Fish_weight                  NaN              0.168444        0.389557   \n",
       "moisture                     NaN             -0.472363        0.955447   \n",
       "Crude_fibre                  NaN             -0.679643        0.071367   \n",
       "NFE                          NaN             -0.371293             NaN   \n",
       "Unnamed: 9                   NaN                   NaN             NaN   \n",
       "protein                      NaN              0.384604       -0.043613   \n",
       "Fat                          NaN              0.381629       -0.897954   \n",
       "Ash Content                  NaN              0.409341       -0.926296   \n",
       "WG                           NaN              0.600550       -0.962243   \n",
       "FCR                          NaN              0.324120        0.129707   \n",
       "SGR                          NaN              0.487845       -0.996885   \n",
       "PER                          NaN              0.289586       -0.633426   \n",
       "\n",
       "                      Fish_weight  moisture  Crude_fibre       NFE  \\\n",
       "Unnamed: 0                    NaN       NaN          NaN       NaN   \n",
       "percentage_inclusion     0.168444 -0.472363    -0.679643 -0.371293   \n",
       "Culture_period           0.389557  0.955447     0.071367       NaN   \n",
       "Fish_weight              1.000000  0.318306    -0.781319 -0.347324   \n",
       "moisture                 0.318306  1.000000     0.445696  0.055056   \n",
       "Crude_fibre             -0.781319  0.445696     1.000000  0.025792   \n",
       "NFE                     -0.347324  0.055056     0.025792  1.000000   \n",
       "Unnamed: 9                    NaN       NaN          NaN       NaN   \n",
       "protein                  0.819206 -0.062533    -0.684152 -0.671174   \n",
       "Fat                     -0.382026 -0.760947     0.114167 -0.646539   \n",
       "Ash Content             -0.444672 -0.971494     0.304301  0.249806   \n",
       "WG                      -0.272261 -0.983213    -0.485854 -0.333355   \n",
       "FCR                      0.909539  0.015607    -0.741280 -0.368822   \n",
       "SGR                     -0.415082 -0.963291     0.015694  0.361076   \n",
       "PER                     -0.150043 -0.422485    -0.057322 -0.060136   \n",
       "\n",
       "                      Unnamed: 9   protein       Fat  Ash Content        WG  \\\n",
       "Unnamed: 0                   NaN       NaN       NaN          NaN       NaN   \n",
       "percentage_inclusion         NaN  0.384604  0.381629     0.409341  0.600550   \n",
       "Culture_period               NaN -0.043613 -0.897954    -0.926296 -0.962243   \n",
       "Fish_weight                  NaN  0.819206 -0.382026    -0.444672 -0.272261   \n",
       "moisture                     NaN -0.062533 -0.760947    -0.971494 -0.983213   \n",
       "Crude_fibre                  NaN -0.684152  0.114167     0.304301 -0.485854   \n",
       "NFE                          NaN -0.671174 -0.646539     0.249806 -0.333355   \n",
       "Unnamed: 9                   NaN       NaN       NaN          NaN       NaN   \n",
       "protein                      NaN  1.000000  0.103002    -0.073082  0.134856   \n",
       "Fat                          NaN  0.103002  1.000000     0.694794  0.800318   \n",
       "Ash Content                  NaN -0.073082  0.694794     1.000000  0.941579   \n",
       "WG                           NaN  0.134856  0.800318     0.941579  1.000000   \n",
       "FCR                          NaN  0.821461 -0.261547    -0.098137  0.012711   \n",
       "SGR                          NaN  0.013027  0.884321     0.937096  0.973013   \n",
       "PER                          NaN  0.192039  0.863797     0.297304  0.498420   \n",
       "\n",
       "                           FCR       SGR       PER  \n",
       "Unnamed: 0                 NaN       NaN       NaN  \n",
       "percentage_inclusion  0.324120  0.487845  0.289586  \n",
       "Culture_period        0.129707 -0.996885 -0.633426  \n",
       "Fish_weight           0.909539 -0.415082 -0.150043  \n",
       "moisture              0.015607 -0.963291 -0.422485  \n",
       "Crude_fibre          -0.741280  0.015694 -0.057322  \n",
       "NFE                  -0.368822  0.361076 -0.060136  \n",
       "Unnamed: 9                 NaN       NaN       NaN  \n",
       "protein               0.821461  0.013027  0.192039  \n",
       "Fat                  -0.261547  0.884321  0.863797  \n",
       "Ash Content          -0.098137  0.937096  0.297304  \n",
       "WG                    0.012711  0.973013  0.498420  \n",
       "FCR                   1.000000 -0.151473 -0.211626  \n",
       "SGR                  -0.151473  1.000000  0.606544  \n",
       "PER                  -0.211626  0.606544  1.000000  "
      ]
     },
     "execution_count": 218,
     "metadata": {},
     "output_type": "execute_result"
    }
   ],
   "source": [
    "df.corr()"
   ]
  },
  {
   "cell_type": "code",
   "execution_count": 219,
   "metadata": {},
   "outputs": [
    {
     "data": {
      "text/plain": [
       "Index(['Unnamed: 0', 'DATA SOURCE', 'protein feedstuff',\n",
       "       'percentage_inclusion', 'Culture_period', 'Fish_weight', 'moisture',\n",
       "       'Crude_fibre', 'NFE', 'Unnamed: 9', 'protein', 'Fat', 'Ash Content',\n",
       "       'WG', 'FCR', 'SGR', 'PER'],\n",
       "      dtype='object')"
      ]
     },
     "execution_count": 219,
     "metadata": {},
     "output_type": "execute_result"
    }
   ],
   "source": [
    "df.columns"
   ]
  },
  {
   "cell_type": "markdown",
   "metadata": {},
   "source": [
    "## Using multiple Linear Regression to observe trends in the randomly selected data"
   ]
  },
  {
   "cell_type": "code",
   "execution_count": 220,
   "metadata": {},
   "outputs": [
    {
     "data": {
      "text/html": [
       "<div>\n",
       "<style scoped>\n",
       "    .dataframe tbody tr th:only-of-type {\n",
       "        vertical-align: middle;\n",
       "    }\n",
       "\n",
       "    .dataframe tbody tr th {\n",
       "        vertical-align: top;\n",
       "    }\n",
       "\n",
       "    .dataframe thead th {\n",
       "        text-align: right;\n",
       "    }\n",
       "</style>\n",
       "<table border=\"1\" class=\"dataframe\">\n",
       "  <thead>\n",
       "    <tr style=\"text-align: right;\">\n",
       "      <th></th>\n",
       "      <th>Unnamed: 0</th>\n",
       "      <th>DATA SOURCE</th>\n",
       "      <th>protein feedstuff</th>\n",
       "      <th>percentage_inclusion</th>\n",
       "      <th>Culture_period</th>\n",
       "      <th>Fish_weight</th>\n",
       "      <th>moisture</th>\n",
       "      <th>Crude_fibre</th>\n",
       "      <th>NFE</th>\n",
       "      <th>Unnamed: 9</th>\n",
       "      <th>protein</th>\n",
       "      <th>Fat</th>\n",
       "      <th>Ash Content</th>\n",
       "      <th>WG</th>\n",
       "      <th>FCR</th>\n",
       "      <th>SGR</th>\n",
       "      <th>PER</th>\n",
       "    </tr>\n",
       "  </thead>\n",
       "  <tbody>\n",
       "    <tr>\n",
       "      <th>0</th>\n",
       "      <td>NaN</td>\n",
       "      <td>lim leong</td>\n",
       "      <td>fish meal</td>\n",
       "      <td>56.65</td>\n",
       "      <td>4</td>\n",
       "      <td>2.85</td>\n",
       "      <td>4.78</td>\n",
       "      <td>NaN</td>\n",
       "      <td>NaN</td>\n",
       "      <td>NaN</td>\n",
       "      <td>39.82</td>\n",
       "      <td>11.45</td>\n",
       "      <td>86.55</td>\n",
       "      <td>999.62</td>\n",
       "      <td>1.24</td>\n",
       "      <td>8.56</td>\n",
       "      <td>2.16</td>\n",
       "    </tr>\n",
       "    <tr>\n",
       "      <th>1</th>\n",
       "      <td>NaN</td>\n",
       "      <td>NaN</td>\n",
       "      <td>feather meal</td>\n",
       "      <td>9.86</td>\n",
       "      <td>4</td>\n",
       "      <td>2.85</td>\n",
       "      <td>5.12</td>\n",
       "      <td>NaN</td>\n",
       "      <td>NaN</td>\n",
       "      <td>NaN</td>\n",
       "      <td>39.51</td>\n",
       "      <td>11.20</td>\n",
       "      <td>87.40</td>\n",
       "      <td>788.46</td>\n",
       "      <td>1.34</td>\n",
       "      <td>7.79</td>\n",
       "      <td>2.04</td>\n",
       "    </tr>\n",
       "    <tr>\n",
       "      <th>2</th>\n",
       "      <td>NaN</td>\n",
       "      <td>adetarami</td>\n",
       "      <td>fish meal</td>\n",
       "      <td>31.73</td>\n",
       "      <td>12</td>\n",
       "      <td>21.70</td>\n",
       "      <td>9.90</td>\n",
       "      <td>3.74</td>\n",
       "      <td>23.98</td>\n",
       "      <td>NaN</td>\n",
       "      <td>44.20</td>\n",
       "      <td>4.76</td>\n",
       "      <td>13.27</td>\n",
       "      <td>193.26</td>\n",
       "      <td>5.07</td>\n",
       "      <td>0.69</td>\n",
       "      <td>0.46</td>\n",
       "    </tr>\n",
       "    <tr>\n",
       "      <th>3</th>\n",
       "      <td>NaN</td>\n",
       "      <td>NaN</td>\n",
       "      <td>maggot</td>\n",
       "      <td>22.77</td>\n",
       "      <td>12</td>\n",
       "      <td>21.80</td>\n",
       "      <td>8.90</td>\n",
       "      <td>3.76</td>\n",
       "      <td>25.47</td>\n",
       "      <td>NaN</td>\n",
       "      <td>43.50</td>\n",
       "      <td>4.60</td>\n",
       "      <td>12.70</td>\n",
       "      <td>298.16</td>\n",
       "      <td>3.96</td>\n",
       "      <td>0.96</td>\n",
       "      <td>0.58</td>\n",
       "    </tr>\n",
       "    <tr>\n",
       "      <th>4</th>\n",
       "      <td>NaN</td>\n",
       "      <td>chukwuemeka</td>\n",
       "      <td>fish meal</td>\n",
       "      <td>25.00</td>\n",
       "      <td>10</td>\n",
       "      <td>10.00</td>\n",
       "      <td>9.55</td>\n",
       "      <td>4.10</td>\n",
       "      <td>NaN</td>\n",
       "      <td>NaN</td>\n",
       "      <td>40.76</td>\n",
       "      <td>9.20</td>\n",
       "      <td>10.59</td>\n",
       "      <td>248.61</td>\n",
       "      <td>1.15</td>\n",
       "      <td>2.53</td>\n",
       "      <td>2.55</td>\n",
       "    </tr>\n",
       "    <tr>\n",
       "      <th>5</th>\n",
       "      <td>NaN</td>\n",
       "      <td>NaN</td>\n",
       "      <td>maggot</td>\n",
       "      <td>12.50</td>\n",
       "      <td>10</td>\n",
       "      <td>10.00</td>\n",
       "      <td>9.22</td>\n",
       "      <td>4.87</td>\n",
       "      <td>NaN</td>\n",
       "      <td>NaN</td>\n",
       "      <td>40.59</td>\n",
       "      <td>8.98</td>\n",
       "      <td>9.10</td>\n",
       "      <td>259.02</td>\n",
       "      <td>1.17</td>\n",
       "      <td>2.55</td>\n",
       "      <td>2.60</td>\n",
       "    </tr>\n",
       "    <tr>\n",
       "      <th>6</th>\n",
       "      <td>NaN</td>\n",
       "      <td>NaN</td>\n",
       "      <td>maggot</td>\n",
       "      <td>25.00</td>\n",
       "      <td>10</td>\n",
       "      <td>10.00</td>\n",
       "      <td>9.87</td>\n",
       "      <td>5.22</td>\n",
       "      <td>NaN</td>\n",
       "      <td>NaN</td>\n",
       "      <td>40.74</td>\n",
       "      <td>8.51</td>\n",
       "      <td>8.00</td>\n",
       "      <td>263.98</td>\n",
       "      <td>1.16</td>\n",
       "      <td>2.56</td>\n",
       "      <td>2.60</td>\n",
       "    </tr>\n",
       "    <tr>\n",
       "      <th>7</th>\n",
       "      <td>NaN</td>\n",
       "      <td>Falaye et al</td>\n",
       "      <td>aqualis/fishmeal CT</td>\n",
       "      <td>13.63</td>\n",
       "      <td>12</td>\n",
       "      <td>5.00</td>\n",
       "      <td>9.96</td>\n",
       "      <td>4.20</td>\n",
       "      <td>28.45</td>\n",
       "      <td>NaN</td>\n",
       "      <td>37.42</td>\n",
       "      <td>4.36</td>\n",
       "      <td>15.78</td>\n",
       "      <td>127.50</td>\n",
       "      <td>0.65</td>\n",
       "      <td>0.97</td>\n",
       "      <td>0.52</td>\n",
       "    </tr>\n",
       "    <tr>\n",
       "      <th>8</th>\n",
       "      <td>NaN</td>\n",
       "      <td>NaN</td>\n",
       "      <td>T1</td>\n",
       "      <td>13.30</td>\n",
       "      <td>12</td>\n",
       "      <td>5.00</td>\n",
       "      <td>9.78</td>\n",
       "      <td>5.53</td>\n",
       "      <td>28.20</td>\n",
       "      <td>NaN</td>\n",
       "      <td>35.96</td>\n",
       "      <td>4.98</td>\n",
       "      <td>15.88</td>\n",
       "      <td>122.60</td>\n",
       "      <td>0.68</td>\n",
       "      <td>0.95</td>\n",
       "      <td>0.50</td>\n",
       "    </tr>\n",
       "    <tr>\n",
       "      <th>9</th>\n",
       "      <td>NaN</td>\n",
       "      <td>NaN</td>\n",
       "      <td>T2</td>\n",
       "      <td>13.30</td>\n",
       "      <td>12</td>\n",
       "      <td>5.00</td>\n",
       "      <td>9.89</td>\n",
       "      <td>5.51</td>\n",
       "      <td>27.30</td>\n",
       "      <td>NaN</td>\n",
       "      <td>36.42</td>\n",
       "      <td>5.24</td>\n",
       "      <td>16.02</td>\n",
       "      <td>150.90</td>\n",
       "      <td>0.70</td>\n",
       "      <td>1.09</td>\n",
       "      <td>0.56</td>\n",
       "    </tr>\n",
       "    <tr>\n",
       "      <th>10</th>\n",
       "      <td>NaN</td>\n",
       "      <td>NaN</td>\n",
       "      <td>T3</td>\n",
       "      <td>13.00</td>\n",
       "      <td>12</td>\n",
       "      <td>5.00</td>\n",
       "      <td>9.93</td>\n",
       "      <td>5.60</td>\n",
       "      <td>24.92</td>\n",
       "      <td>NaN</td>\n",
       "      <td>38.25</td>\n",
       "      <td>5.46</td>\n",
       "      <td>15.95</td>\n",
       "      <td>150.10</td>\n",
       "      <td>0.68</td>\n",
       "      <td>1.09</td>\n",
       "      <td>0.56</td>\n",
       "    </tr>\n",
       "    <tr>\n",
       "      <th>11</th>\n",
       "      <td>NaN</td>\n",
       "      <td>NaN</td>\n",
       "      <td>T4</td>\n",
       "      <td>13.00</td>\n",
       "      <td>12</td>\n",
       "      <td>5.00</td>\n",
       "      <td>9.88</td>\n",
       "      <td>5.58</td>\n",
       "      <td>22.63</td>\n",
       "      <td>NaN</td>\n",
       "      <td>40.20</td>\n",
       "      <td>6.66</td>\n",
       "      <td>16.22</td>\n",
       "      <td>152.80</td>\n",
       "      <td>0.62</td>\n",
       "      <td>0.94</td>\n",
       "      <td>0.55</td>\n",
       "    </tr>\n",
       "  </tbody>\n",
       "</table>\n",
       "</div>"
      ],
      "text/plain": [
       "    Unnamed: 0   DATA SOURCE    protein feedstuff  percentage_inclusion  \\\n",
       "0          NaN     lim leong            fish meal                 56.65   \n",
       "1          NaN           NaN         feather meal                  9.86   \n",
       "2          NaN     adetarami            fish meal                 31.73   \n",
       "3          NaN           NaN               maggot                 22.77   \n",
       "4          NaN   chukwuemeka            fish meal                 25.00   \n",
       "5          NaN           NaN               maggot                 12.50   \n",
       "6          NaN           NaN               maggot                 25.00   \n",
       "7          NaN  Falaye et al  aqualis/fishmeal CT                 13.63   \n",
       "8          NaN           NaN                   T1                 13.30   \n",
       "9          NaN           NaN                   T2                 13.30   \n",
       "10         NaN           NaN                   T3                 13.00   \n",
       "11         NaN           NaN                   T4                 13.00   \n",
       "\n",
       "    Culture_period  Fish_weight  moisture  Crude_fibre    NFE  Unnamed: 9  \\\n",
       "0                4         2.85      4.78          NaN    NaN         NaN   \n",
       "1                4         2.85      5.12          NaN    NaN         NaN   \n",
       "2               12        21.70      9.90         3.74  23.98         NaN   \n",
       "3               12        21.80      8.90         3.76  25.47         NaN   \n",
       "4               10        10.00      9.55         4.10    NaN         NaN   \n",
       "5               10        10.00      9.22         4.87    NaN         NaN   \n",
       "6               10        10.00      9.87         5.22    NaN         NaN   \n",
       "7               12         5.00      9.96         4.20  28.45         NaN   \n",
       "8               12         5.00      9.78         5.53  28.20         NaN   \n",
       "9               12         5.00      9.89         5.51  27.30         NaN   \n",
       "10              12         5.00      9.93         5.60  24.92         NaN   \n",
       "11              12         5.00      9.88         5.58  22.63         NaN   \n",
       "\n",
       "    protein    Fat  Ash Content      WG   FCR   SGR   PER  \n",
       "0     39.82  11.45        86.55  999.62  1.24  8.56  2.16  \n",
       "1     39.51  11.20        87.40  788.46  1.34  7.79  2.04  \n",
       "2     44.20   4.76        13.27  193.26  5.07  0.69  0.46  \n",
       "3     43.50   4.60        12.70  298.16  3.96  0.96  0.58  \n",
       "4     40.76   9.20        10.59  248.61  1.15  2.53  2.55  \n",
       "5     40.59   8.98         9.10  259.02  1.17  2.55  2.60  \n",
       "6     40.74   8.51         8.00  263.98  1.16  2.56  2.60  \n",
       "7     37.42   4.36        15.78  127.50  0.65  0.97  0.52  \n",
       "8     35.96   4.98        15.88  122.60  0.68  0.95  0.50  \n",
       "9     36.42   5.24        16.02  150.90  0.70  1.09  0.56  \n",
       "10    38.25   5.46        15.95  150.10  0.68  1.09  0.56  \n",
       "11    40.20   6.66        16.22  152.80  0.62  0.94  0.55  "
      ]
     },
     "execution_count": 220,
     "metadata": {},
     "output_type": "execute_result"
    }
   ],
   "source": [
    "df"
   ]
  },
  {
   "cell_type": "code",
   "execution_count": 221,
   "metadata": {},
   "outputs": [],
   "source": [
    "## drop columns with string values\n",
    "##(df.dropna(subset= ['Unnamed: 0'], axis= 0, inplace= True) df.dropna(subset= ['DATA SOURCE'], axis= 0, inplace= True) df.dropna(subset= ['protein feedstuff'], axis= 0, inplace= True)df.dropna(subset= ['Unnamed: 9'], axis= 0, inplace= True))"
   ]
  },
  {
   "cell_type": "code",
   "execution_count": 94,
   "metadata": {},
   "outputs": [],
   "source": [
    "df= df[['percentage_inclusion', 'Culture_period', 'Fish_weight', 'moisture', 'Crude_fibre', 'NFE', 'protein', 'Fat', 'Ash Content', 'WG', 'FCR', 'SGR', 'PER']]"
   ]
  },
  {
   "cell_type": "code",
   "execution_count": 222,
   "metadata": {},
   "outputs": [],
   "source": [
    "mean= df['Crude_fibre'].mean()\n",
    "df['Crude_fibre']= df['Crude_fibre'].replace(np.nan, mean)"
   ]
  },
  {
   "cell_type": "code",
   "execution_count": 223,
   "metadata": {},
   "outputs": [],
   "source": [
    "mean= df['NFE'].mean()\n",
    "df['NFE']= df['NFE'].replace(np.nan, mean)"
   ]
  },
  {
   "cell_type": "code",
   "execution_count": 224,
   "metadata": {},
   "outputs": [
    {
     "data": {
      "text/html": [
       "<div>\n",
       "<style scoped>\n",
       "    .dataframe tbody tr th:only-of-type {\n",
       "        vertical-align: middle;\n",
       "    }\n",
       "\n",
       "    .dataframe tbody tr th {\n",
       "        vertical-align: top;\n",
       "    }\n",
       "\n",
       "    .dataframe thead th {\n",
       "        text-align: right;\n",
       "    }\n",
       "</style>\n",
       "<table border=\"1\" class=\"dataframe\">\n",
       "  <thead>\n",
       "    <tr style=\"text-align: right;\">\n",
       "      <th></th>\n",
       "      <th>Unnamed: 0</th>\n",
       "      <th>DATA SOURCE</th>\n",
       "      <th>protein feedstuff</th>\n",
       "      <th>percentage_inclusion</th>\n",
       "      <th>Culture_period</th>\n",
       "      <th>Fish_weight</th>\n",
       "      <th>moisture</th>\n",
       "      <th>Crude_fibre</th>\n",
       "      <th>NFE</th>\n",
       "      <th>Unnamed: 9</th>\n",
       "      <th>protein</th>\n",
       "      <th>Fat</th>\n",
       "      <th>Ash Content</th>\n",
       "      <th>WG</th>\n",
       "      <th>FCR</th>\n",
       "      <th>SGR</th>\n",
       "      <th>PER</th>\n",
       "    </tr>\n",
       "  </thead>\n",
       "  <tbody>\n",
       "    <tr>\n",
       "      <th>0</th>\n",
       "      <td>NaN</td>\n",
       "      <td>lim leong</td>\n",
       "      <td>fish meal</td>\n",
       "      <td>56.65</td>\n",
       "      <td>4</td>\n",
       "      <td>2.85</td>\n",
       "      <td>4.78</td>\n",
       "      <td>4.811</td>\n",
       "      <td>25.85</td>\n",
       "      <td>NaN</td>\n",
       "      <td>39.82</td>\n",
       "      <td>11.45</td>\n",
       "      <td>86.55</td>\n",
       "      <td>999.62</td>\n",
       "      <td>1.24</td>\n",
       "      <td>8.56</td>\n",
       "      <td>2.16</td>\n",
       "    </tr>\n",
       "    <tr>\n",
       "      <th>1</th>\n",
       "      <td>NaN</td>\n",
       "      <td>NaN</td>\n",
       "      <td>feather meal</td>\n",
       "      <td>9.86</td>\n",
       "      <td>4</td>\n",
       "      <td>2.85</td>\n",
       "      <td>5.12</td>\n",
       "      <td>4.811</td>\n",
       "      <td>25.85</td>\n",
       "      <td>NaN</td>\n",
       "      <td>39.51</td>\n",
       "      <td>11.20</td>\n",
       "      <td>87.40</td>\n",
       "      <td>788.46</td>\n",
       "      <td>1.34</td>\n",
       "      <td>7.79</td>\n",
       "      <td>2.04</td>\n",
       "    </tr>\n",
       "    <tr>\n",
       "      <th>2</th>\n",
       "      <td>NaN</td>\n",
       "      <td>adetarami</td>\n",
       "      <td>fish meal</td>\n",
       "      <td>31.73</td>\n",
       "      <td>12</td>\n",
       "      <td>21.70</td>\n",
       "      <td>9.90</td>\n",
       "      <td>3.740</td>\n",
       "      <td>23.98</td>\n",
       "      <td>NaN</td>\n",
       "      <td>44.20</td>\n",
       "      <td>4.76</td>\n",
       "      <td>13.27</td>\n",
       "      <td>193.26</td>\n",
       "      <td>5.07</td>\n",
       "      <td>0.69</td>\n",
       "      <td>0.46</td>\n",
       "    </tr>\n",
       "    <tr>\n",
       "      <th>3</th>\n",
       "      <td>NaN</td>\n",
       "      <td>NaN</td>\n",
       "      <td>maggot</td>\n",
       "      <td>22.77</td>\n",
       "      <td>12</td>\n",
       "      <td>21.80</td>\n",
       "      <td>8.90</td>\n",
       "      <td>3.760</td>\n",
       "      <td>25.47</td>\n",
       "      <td>NaN</td>\n",
       "      <td>43.50</td>\n",
       "      <td>4.60</td>\n",
       "      <td>12.70</td>\n",
       "      <td>298.16</td>\n",
       "      <td>3.96</td>\n",
       "      <td>0.96</td>\n",
       "      <td>0.58</td>\n",
       "    </tr>\n",
       "    <tr>\n",
       "      <th>4</th>\n",
       "      <td>NaN</td>\n",
       "      <td>chukwuemeka</td>\n",
       "      <td>fish meal</td>\n",
       "      <td>25.00</td>\n",
       "      <td>10</td>\n",
       "      <td>10.00</td>\n",
       "      <td>9.55</td>\n",
       "      <td>4.100</td>\n",
       "      <td>25.85</td>\n",
       "      <td>NaN</td>\n",
       "      <td>40.76</td>\n",
       "      <td>9.20</td>\n",
       "      <td>10.59</td>\n",
       "      <td>248.61</td>\n",
       "      <td>1.15</td>\n",
       "      <td>2.53</td>\n",
       "      <td>2.55</td>\n",
       "    </tr>\n",
       "  </tbody>\n",
       "</table>\n",
       "</div>"
      ],
      "text/plain": [
       "   Unnamed: 0  DATA SOURCE protein feedstuff  percentage_inclusion  \\\n",
       "0         NaN    lim leong         fish meal                 56.65   \n",
       "1         NaN          NaN      feather meal                  9.86   \n",
       "2         NaN    adetarami         fish meal                 31.73   \n",
       "3         NaN          NaN            maggot                 22.77   \n",
       "4         NaN  chukwuemeka         fish meal                 25.00   \n",
       "\n",
       "   Culture_period  Fish_weight  moisture  Crude_fibre    NFE  Unnamed: 9  \\\n",
       "0               4         2.85      4.78        4.811  25.85         NaN   \n",
       "1               4         2.85      5.12        4.811  25.85         NaN   \n",
       "2              12        21.70      9.90        3.740  23.98         NaN   \n",
       "3              12        21.80      8.90        3.760  25.47         NaN   \n",
       "4              10        10.00      9.55        4.100  25.85         NaN   \n",
       "\n",
       "   protein    Fat  Ash Content      WG   FCR   SGR   PER  \n",
       "0    39.82  11.45        86.55  999.62  1.24  8.56  2.16  \n",
       "1    39.51  11.20        87.40  788.46  1.34  7.79  2.04  \n",
       "2    44.20   4.76        13.27  193.26  5.07  0.69  0.46  \n",
       "3    43.50   4.60        12.70  298.16  3.96  0.96  0.58  \n",
       "4    40.76   9.20        10.59  248.61  1.15  2.53  2.55  "
      ]
     },
     "execution_count": 224,
     "metadata": {},
     "output_type": "execute_result"
    }
   ],
   "source": [
    "df.head()"
   ]
  },
  {
   "cell_type": "code",
   "execution_count": 225,
   "metadata": {},
   "outputs": [
    {
     "data": {
      "text/html": [
       "<div>\n",
       "<style scoped>\n",
       "    .dataframe tbody tr th:only-of-type {\n",
       "        vertical-align: middle;\n",
       "    }\n",
       "\n",
       "    .dataframe tbody tr th {\n",
       "        vertical-align: top;\n",
       "    }\n",
       "\n",
       "    .dataframe thead th {\n",
       "        text-align: right;\n",
       "    }\n",
       "</style>\n",
       "<table border=\"1\" class=\"dataframe\">\n",
       "  <thead>\n",
       "    <tr style=\"text-align: right;\">\n",
       "      <th></th>\n",
       "      <th>Unnamed: 0</th>\n",
       "      <th>percentage_inclusion</th>\n",
       "      <th>Culture_period</th>\n",
       "      <th>Fish_weight</th>\n",
       "      <th>moisture</th>\n",
       "      <th>Crude_fibre</th>\n",
       "      <th>NFE</th>\n",
       "      <th>Unnamed: 9</th>\n",
       "      <th>protein</th>\n",
       "      <th>Fat</th>\n",
       "      <th>Ash Content</th>\n",
       "      <th>WG</th>\n",
       "      <th>FCR</th>\n",
       "      <th>SGR</th>\n",
       "      <th>PER</th>\n",
       "    </tr>\n",
       "  </thead>\n",
       "  <tbody>\n",
       "    <tr>\n",
       "      <th>Unnamed: 0</th>\n",
       "      <td>NaN</td>\n",
       "      <td>NaN</td>\n",
       "      <td>NaN</td>\n",
       "      <td>NaN</td>\n",
       "      <td>NaN</td>\n",
       "      <td>NaN</td>\n",
       "      <td>NaN</td>\n",
       "      <td>NaN</td>\n",
       "      <td>NaN</td>\n",
       "      <td>NaN</td>\n",
       "      <td>NaN</td>\n",
       "      <td>NaN</td>\n",
       "      <td>NaN</td>\n",
       "      <td>NaN</td>\n",
       "      <td>NaN</td>\n",
       "    </tr>\n",
       "    <tr>\n",
       "      <th>percentage_inclusion</th>\n",
       "      <td>NaN</td>\n",
       "      <td>1.000000</td>\n",
       "      <td>-4.556589e-01</td>\n",
       "      <td>0.168444</td>\n",
       "      <td>-0.472363</td>\n",
       "      <td>-0.329841</td>\n",
       "      <td>-1.517947e-01</td>\n",
       "      <td>NaN</td>\n",
       "      <td>0.384604</td>\n",
       "      <td>0.381629</td>\n",
       "      <td>0.409341</td>\n",
       "      <td>0.600550</td>\n",
       "      <td>0.324120</td>\n",
       "      <td>0.487845</td>\n",
       "      <td>0.289586</td>\n",
       "    </tr>\n",
       "    <tr>\n",
       "      <th>Culture_period</th>\n",
       "      <td>NaN</td>\n",
       "      <td>-0.455659</td>\n",
       "      <td>1.000000e+00</td>\n",
       "      <td>0.389557</td>\n",
       "      <td>0.955447</td>\n",
       "      <td>0.020719</td>\n",
       "      <td>4.769678e-16</td>\n",
       "      <td>NaN</td>\n",
       "      <td>-0.043613</td>\n",
       "      <td>-0.897954</td>\n",
       "      <td>-0.926296</td>\n",
       "      <td>-0.962243</td>\n",
       "      <td>0.129707</td>\n",
       "      <td>-0.996885</td>\n",
       "      <td>-0.633426</td>\n",
       "    </tr>\n",
       "    <tr>\n",
       "      <th>Fish_weight</th>\n",
       "      <td>NaN</td>\n",
       "      <td>0.168444</td>\n",
       "      <td>3.895574e-01</td>\n",
       "      <td>1.000000</td>\n",
       "      <td>0.318306</td>\n",
       "      <td>-0.712145</td>\n",
       "      <td>-3.165358e-01</td>\n",
       "      <td>NaN</td>\n",
       "      <td>0.819206</td>\n",
       "      <td>-0.382026</td>\n",
       "      <td>-0.444672</td>\n",
       "      <td>-0.272261</td>\n",
       "      <td>0.909539</td>\n",
       "      <td>-0.415082</td>\n",
       "      <td>-0.150043</td>\n",
       "    </tr>\n",
       "    <tr>\n",
       "      <th>moisture</th>\n",
       "      <td>NaN</td>\n",
       "      <td>-0.472363</td>\n",
       "      <td>9.554473e-01</td>\n",
       "      <td>0.318306</td>\n",
       "      <td>1.000000</td>\n",
       "      <td>0.077094</td>\n",
       "      <td>8.209637e-03</td>\n",
       "      <td>NaN</td>\n",
       "      <td>-0.062533</td>\n",
       "      <td>-0.760947</td>\n",
       "      <td>-0.971494</td>\n",
       "      <td>-0.983213</td>\n",
       "      <td>0.015607</td>\n",
       "      <td>-0.963291</td>\n",
       "      <td>-0.422485</td>\n",
       "    </tr>\n",
       "    <tr>\n",
       "      <th>Crude_fibre</th>\n",
       "      <td>NaN</td>\n",
       "      <td>-0.329841</td>\n",
       "      <td>2.071880e-02</td>\n",
       "      <td>-0.712145</td>\n",
       "      <td>0.077094</td>\n",
       "      <td>1.000000</td>\n",
       "      <td>2.413929e-02</td>\n",
       "      <td>NaN</td>\n",
       "      <td>-0.683759</td>\n",
       "      <td>0.075587</td>\n",
       "      <td>0.030082</td>\n",
       "      <td>-0.101350</td>\n",
       "      <td>-0.738843</td>\n",
       "      <td>0.004049</td>\n",
       "      <td>-0.052957</td>\n",
       "    </tr>\n",
       "    <tr>\n",
       "      <th>NFE</th>\n",
       "      <td>NaN</td>\n",
       "      <td>-0.151795</td>\n",
       "      <td>4.769678e-16</td>\n",
       "      <td>-0.316536</td>\n",
       "      <td>0.008210</td>\n",
       "      <td>0.024139</td>\n",
       "      <td>1.000000e+00</td>\n",
       "      <td>NaN</td>\n",
       "      <td>-0.654107</td>\n",
       "      <td>-0.138830</td>\n",
       "      <td>0.009430</td>\n",
       "      <td>-0.053076</td>\n",
       "      <td>-0.361274</td>\n",
       "      <td>0.013095</td>\n",
       "      <td>-0.001918</td>\n",
       "    </tr>\n",
       "    <tr>\n",
       "      <th>Unnamed: 9</th>\n",
       "      <td>NaN</td>\n",
       "      <td>NaN</td>\n",
       "      <td>NaN</td>\n",
       "      <td>NaN</td>\n",
       "      <td>NaN</td>\n",
       "      <td>NaN</td>\n",
       "      <td>NaN</td>\n",
       "      <td>NaN</td>\n",
       "      <td>NaN</td>\n",
       "      <td>NaN</td>\n",
       "      <td>NaN</td>\n",
       "      <td>NaN</td>\n",
       "      <td>NaN</td>\n",
       "      <td>NaN</td>\n",
       "      <td>NaN</td>\n",
       "    </tr>\n",
       "    <tr>\n",
       "      <th>protein</th>\n",
       "      <td>NaN</td>\n",
       "      <td>0.384604</td>\n",
       "      <td>-4.361259e-02</td>\n",
       "      <td>0.819206</td>\n",
       "      <td>-0.062533</td>\n",
       "      <td>-0.683759</td>\n",
       "      <td>-6.541069e-01</td>\n",
       "      <td>NaN</td>\n",
       "      <td>1.000000</td>\n",
       "      <td>0.103002</td>\n",
       "      <td>-0.073082</td>\n",
       "      <td>0.134856</td>\n",
       "      <td>0.821461</td>\n",
       "      <td>0.013027</td>\n",
       "      <td>0.192039</td>\n",
       "    </tr>\n",
       "    <tr>\n",
       "      <th>Fat</th>\n",
       "      <td>NaN</td>\n",
       "      <td>0.381629</td>\n",
       "      <td>-8.979537e-01</td>\n",
       "      <td>-0.382026</td>\n",
       "      <td>-0.760947</td>\n",
       "      <td>0.075587</td>\n",
       "      <td>-1.388305e-01</td>\n",
       "      <td>NaN</td>\n",
       "      <td>0.103002</td>\n",
       "      <td>1.000000</td>\n",
       "      <td>0.694794</td>\n",
       "      <td>0.800318</td>\n",
       "      <td>-0.261547</td>\n",
       "      <td>0.884321</td>\n",
       "      <td>0.863797</td>\n",
       "    </tr>\n",
       "    <tr>\n",
       "      <th>Ash Content</th>\n",
       "      <td>NaN</td>\n",
       "      <td>0.409341</td>\n",
       "      <td>-9.262962e-01</td>\n",
       "      <td>-0.444672</td>\n",
       "      <td>-0.971494</td>\n",
       "      <td>0.030082</td>\n",
       "      <td>9.429874e-03</td>\n",
       "      <td>NaN</td>\n",
       "      <td>-0.073082</td>\n",
       "      <td>0.694794</td>\n",
       "      <td>1.000000</td>\n",
       "      <td>0.941579</td>\n",
       "      <td>-0.098137</td>\n",
       "      <td>0.937096</td>\n",
       "      <td>0.297304</td>\n",
       "    </tr>\n",
       "    <tr>\n",
       "      <th>WG</th>\n",
       "      <td>NaN</td>\n",
       "      <td>0.600550</td>\n",
       "      <td>-9.622425e-01</td>\n",
       "      <td>-0.272261</td>\n",
       "      <td>-0.983213</td>\n",
       "      <td>-0.101350</td>\n",
       "      <td>-5.307590e-02</td>\n",
       "      <td>NaN</td>\n",
       "      <td>0.134856</td>\n",
       "      <td>0.800318</td>\n",
       "      <td>0.941579</td>\n",
       "      <td>1.000000</td>\n",
       "      <td>0.012711</td>\n",
       "      <td>0.973013</td>\n",
       "      <td>0.498420</td>\n",
       "    </tr>\n",
       "    <tr>\n",
       "      <th>FCR</th>\n",
       "      <td>NaN</td>\n",
       "      <td>0.324120</td>\n",
       "      <td>1.297065e-01</td>\n",
       "      <td>0.909539</td>\n",
       "      <td>0.015607</td>\n",
       "      <td>-0.738843</td>\n",
       "      <td>-3.612744e-01</td>\n",
       "      <td>NaN</td>\n",
       "      <td>0.821461</td>\n",
       "      <td>-0.261547</td>\n",
       "      <td>-0.098137</td>\n",
       "      <td>0.012711</td>\n",
       "      <td>1.000000</td>\n",
       "      <td>-0.151473</td>\n",
       "      <td>-0.211626</td>\n",
       "    </tr>\n",
       "    <tr>\n",
       "      <th>SGR</th>\n",
       "      <td>NaN</td>\n",
       "      <td>0.487845</td>\n",
       "      <td>-9.968845e-01</td>\n",
       "      <td>-0.415082</td>\n",
       "      <td>-0.963291</td>\n",
       "      <td>0.004049</td>\n",
       "      <td>1.309546e-02</td>\n",
       "      <td>NaN</td>\n",
       "      <td>0.013027</td>\n",
       "      <td>0.884321</td>\n",
       "      <td>0.937096</td>\n",
       "      <td>0.973013</td>\n",
       "      <td>-0.151473</td>\n",
       "      <td>1.000000</td>\n",
       "      <td>0.606544</td>\n",
       "    </tr>\n",
       "    <tr>\n",
       "      <th>PER</th>\n",
       "      <td>NaN</td>\n",
       "      <td>0.289586</td>\n",
       "      <td>-6.334263e-01</td>\n",
       "      <td>-0.150043</td>\n",
       "      <td>-0.422485</td>\n",
       "      <td>-0.052957</td>\n",
       "      <td>-1.918438e-03</td>\n",
       "      <td>NaN</td>\n",
       "      <td>0.192039</td>\n",
       "      <td>0.863797</td>\n",
       "      <td>0.297304</td>\n",
       "      <td>0.498420</td>\n",
       "      <td>-0.211626</td>\n",
       "      <td>0.606544</td>\n",
       "      <td>1.000000</td>\n",
       "    </tr>\n",
       "  </tbody>\n",
       "</table>\n",
       "</div>"
      ],
      "text/plain": [
       "                      Unnamed: 0  percentage_inclusion  Culture_period  \\\n",
       "Unnamed: 0                   NaN                   NaN             NaN   \n",
       "percentage_inclusion         NaN              1.000000   -4.556589e-01   \n",
       "Culture_period               NaN             -0.455659    1.000000e+00   \n",
       "Fish_weight                  NaN              0.168444    3.895574e-01   \n",
       "moisture                     NaN             -0.472363    9.554473e-01   \n",
       "Crude_fibre                  NaN             -0.329841    2.071880e-02   \n",
       "NFE                          NaN             -0.151795    4.769678e-16   \n",
       "Unnamed: 9                   NaN                   NaN             NaN   \n",
       "protein                      NaN              0.384604   -4.361259e-02   \n",
       "Fat                          NaN              0.381629   -8.979537e-01   \n",
       "Ash Content                  NaN              0.409341   -9.262962e-01   \n",
       "WG                           NaN              0.600550   -9.622425e-01   \n",
       "FCR                          NaN              0.324120    1.297065e-01   \n",
       "SGR                          NaN              0.487845   -9.968845e-01   \n",
       "PER                          NaN              0.289586   -6.334263e-01   \n",
       "\n",
       "                      Fish_weight  moisture  Crude_fibre           NFE  \\\n",
       "Unnamed: 0                    NaN       NaN          NaN           NaN   \n",
       "percentage_inclusion     0.168444 -0.472363    -0.329841 -1.517947e-01   \n",
       "Culture_period           0.389557  0.955447     0.020719  4.769678e-16   \n",
       "Fish_weight              1.000000  0.318306    -0.712145 -3.165358e-01   \n",
       "moisture                 0.318306  1.000000     0.077094  8.209637e-03   \n",
       "Crude_fibre             -0.712145  0.077094     1.000000  2.413929e-02   \n",
       "NFE                     -0.316536  0.008210     0.024139  1.000000e+00   \n",
       "Unnamed: 9                    NaN       NaN          NaN           NaN   \n",
       "protein                  0.819206 -0.062533    -0.683759 -6.541069e-01   \n",
       "Fat                     -0.382026 -0.760947     0.075587 -1.388305e-01   \n",
       "Ash Content             -0.444672 -0.971494     0.030082  9.429874e-03   \n",
       "WG                      -0.272261 -0.983213    -0.101350 -5.307590e-02   \n",
       "FCR                      0.909539  0.015607    -0.738843 -3.612744e-01   \n",
       "SGR                     -0.415082 -0.963291     0.004049  1.309546e-02   \n",
       "PER                     -0.150043 -0.422485    -0.052957 -1.918438e-03   \n",
       "\n",
       "                      Unnamed: 9   protein       Fat  Ash Content        WG  \\\n",
       "Unnamed: 0                   NaN       NaN       NaN          NaN       NaN   \n",
       "percentage_inclusion         NaN  0.384604  0.381629     0.409341  0.600550   \n",
       "Culture_period               NaN -0.043613 -0.897954    -0.926296 -0.962243   \n",
       "Fish_weight                  NaN  0.819206 -0.382026    -0.444672 -0.272261   \n",
       "moisture                     NaN -0.062533 -0.760947    -0.971494 -0.983213   \n",
       "Crude_fibre                  NaN -0.683759  0.075587     0.030082 -0.101350   \n",
       "NFE                          NaN -0.654107 -0.138830     0.009430 -0.053076   \n",
       "Unnamed: 9                   NaN       NaN       NaN          NaN       NaN   \n",
       "protein                      NaN  1.000000  0.103002    -0.073082  0.134856   \n",
       "Fat                          NaN  0.103002  1.000000     0.694794  0.800318   \n",
       "Ash Content                  NaN -0.073082  0.694794     1.000000  0.941579   \n",
       "WG                           NaN  0.134856  0.800318     0.941579  1.000000   \n",
       "FCR                          NaN  0.821461 -0.261547    -0.098137  0.012711   \n",
       "SGR                          NaN  0.013027  0.884321     0.937096  0.973013   \n",
       "PER                          NaN  0.192039  0.863797     0.297304  0.498420   \n",
       "\n",
       "                           FCR       SGR       PER  \n",
       "Unnamed: 0                 NaN       NaN       NaN  \n",
       "percentage_inclusion  0.324120  0.487845  0.289586  \n",
       "Culture_period        0.129707 -0.996885 -0.633426  \n",
       "Fish_weight           0.909539 -0.415082 -0.150043  \n",
       "moisture              0.015607 -0.963291 -0.422485  \n",
       "Crude_fibre          -0.738843  0.004049 -0.052957  \n",
       "NFE                  -0.361274  0.013095 -0.001918  \n",
       "Unnamed: 9                 NaN       NaN       NaN  \n",
       "protein               0.821461  0.013027  0.192039  \n",
       "Fat                  -0.261547  0.884321  0.863797  \n",
       "Ash Content          -0.098137  0.937096  0.297304  \n",
       "WG                    0.012711  0.973013  0.498420  \n",
       "FCR                   1.000000 -0.151473 -0.211626  \n",
       "SGR                  -0.151473  1.000000  0.606544  \n",
       "PER                  -0.211626  0.606544  1.000000  "
      ]
     },
     "execution_count": 225,
     "metadata": {},
     "output_type": "execute_result"
    }
   ],
   "source": [
    "df.corr()"
   ]
  },
  {
   "cell_type": "code",
   "execution_count": 226,
   "metadata": {},
   "outputs": [
    {
     "data": {
      "text/plain": [
       "(0, 54.99406835333801)"
      ]
     },
     "execution_count": 226,
     "metadata": {},
     "output_type": "execute_result"
    },
    {
     "data": {
      "image/png": "[encoded data removed]",
      "text/plain": [
       "<Figure size 432x288 with 1 Axes>"
      ]
     },
     "metadata": {
      "needs_background": "light"
     },
     "output_type": "display_data"
    }
   ],
   "source": [
    "sns.regplot(x= 'percentage_inclusion', y= 'protein', data= df)\n",
    "plt.ylim(0)"
   ]
  },
  {
   "cell_type": "code",
   "execution_count": null,
   "metadata": {},
   "outputs": [],
   "source": [
    "\n"
   ]
  },
  {
   "cell_type": "code",
   "execution_count": 227,
   "metadata": {},
   "outputs": [
    {
     "data": {
      "image/png": "[encoded data removed]",
      "text/plain": [
       "<Figure size 432x288 with 9 Axes>"
      ]
     },
     "metadata": {
      "needs_background": "light"
     },
     "output_type": "display_data"
    }
   ],
   "source": [
    "viz= df[['percentage_inclusion', 'Fish_weight','moisture', 'Crude_fibre', 'NFE', 'protein', 'Fat', 'Culture_period']]\n",
    "viz.hist()\n",
    "plt.show()"
   ]
  },
  {
   "cell_type": "code",
   "execution_count": 228,
   "metadata": {},
   "outputs": [
    {
     "data": {
      "image/png": "[encoded data removed]",
      "text/plain": [
       "<Figure size 432x288 with 1 Axes>"
      ]
     },
     "metadata": {
      "needs_background": "light"
     },
     "output_type": "display_data"
    }
   ],
   "source": [
    "plt.scatter(df.Culture_period, df.WG, color= 'blue')\n",
    "plt.xlabel(\"culture_period\")\n",
    "plt.ylabel(\"weight gain per time\")\n",
    "plt.show()"
   ]
  },
  {
   "cell_type": "markdown",
   "metadata": {},
   "source": [
    "#  WEIGTH GAINED VS RECORDED NUTRITIONAL PARAMETERS"
   ]
  },
  {
   "cell_type": "code",
   "execution_count": 99,
   "metadata": {},
   "outputs": [],
   "source": [
    "msk= np.random.rand(len(df))<0.8\n",
    "train= df[msk]\n",
    "test= df[~msk]"
   ]
  },
  {
   "cell_type": "code",
   "execution_count": 100,
   "metadata": {},
   "outputs": [],
   "source": [
    "df.columns\n",
    "from sklearn import linear_model"
   ]
  },
  {
   "cell_type": "code",
   "execution_count": 101,
   "metadata": {},
   "outputs": [
    {
     "name": "stdout",
     "output_type": "stream",
     "text": [
      "Regression coefficients for Weight gained VS Nutritional parameters:  [[-14.90890511  -1.55364785  10.52947878 -20.04086377  50.5005928\n",
      "   -0.15578536  59.83183099   9.14434908 -52.68589171]]\n"
     ]
    }
   ],
   "source": [
    "regr= linear_model.LinearRegression()\n",
    "x= np.asanyarray(train[['percentage_inclusion','Fish_weight', 'Ash Content','moisture', 'Crude_fibre', 'NFE', 'protein', 'Fat', 'Culture_period']])\n",
    "y= np.asanyarray(train[['WG']])\n",
    "regr.fit(x,y)\n",
    "print('Regression coefficients for Weight gained VS Nutritional parameters: ', regr.coef_)"
   ]
  },
  {
   "cell_type": "code",
   "execution_count": 102,
   "metadata": {},
   "outputs": [
    {
     "name": "stdout",
     "output_type": "stream",
     "text": [
      "Residual sum of Squares: 226436.64\n",
      "Variance Score: -2.25\n"
     ]
    }
   ],
   "source": [
    "y_hat=regr.predict(test[['percentage_inclusion','Fish_weight', 'Ash Content','moisture', 'Crude_fibre', 'NFE', 'protein', 'Fat', 'Culture_period']])\n",
    "x= np.asanyarray(test[['percentage_inclusion','Fish_weight', 'Ash Content','moisture', 'Crude_fibre', 'NFE', 'protein', 'Fat', 'Culture_period']])\n",
    "y= np.asanyarray(test[['WG']])\n",
    "print('Residual sum of Squares: %.2f'%np.mean((y_hat- y)** 2))\n",
    "print('Variance Score: %.2f'%regr.score(x, y))"
   ]
  },
  {
   "cell_type": "code",
   "execution_count": 103,
   "metadata": {},
   "outputs": [
    {
     "data": {
      "text/plain": [
       "<matplotlib.axes._subplots.AxesSubplot at 0xcd0fb88>"
      ]
     },
     "execution_count": 103,
     "metadata": {},
     "output_type": "execute_result"
    },
    {
     "data": {
      "image/png": "[encoded data removed]",
      "text/plain": [
       "<Figure size 432x288 with 1 Axes>"
      ]
     },
     "metadata": {
      "needs_background": "light"
     },
     "output_type": "display_data"
    }
   ],
   "source": [
    "ax0= sns.distplot(df['WG'], hist= False, color= 'g', label= 'Actual Weight Gain')\n",
    "sns.distplot(y_hat, hist= False, color= 'b', label= 'Model predicted Weight Gain', ax= ax0)"
   ]
  },
  {
   "cell_type": "code",
   "execution_count": 212,
   "metadata": {},
   "outputs": [],
   "source": [
    "df1= df[['percentage_inclusion','Fish_weight','moisture', 'Ash Content', 'Crude_fibre', 'NFE', 'protein', 'Fat', 'Culture_period']]"
   ]
  },
  {
   "cell_type": "markdown",
   "metadata": {},
   "source": [
    "# MULTIPLE REGRESSION FOR SGR VS NUTRITIONAL PARAMETERS"
   ]
  },
  {
   "cell_type": "code",
   "execution_count": 104,
   "metadata": {},
   "outputs": [
    {
     "name": "stdout",
     "output_type": "stream",
     "text": [
      "Regression coefficient for SGR vs Nutritional Parameters:  [[-0.03732547 -0.09767671 -0.15467068  0.04215604  0.2803236   0.06021096\n",
      "   0.36179676  0.17108368 -0.38814189]]\n"
     ]
    }
   ],
   "source": [
    "x= np.asanyarray(train[['percentage_inclusion','Fish_weight','moisture', 'Ash Content', 'Crude_fibre', 'NFE', 'protein', 'Fat', 'Culture_period']])\n",
    "y= np.asanyarray(train[['SGR']])\n",
    "regr.fit(x,y)\n",
    "print('Regression coefficient for SGR vs Nutritional Parameters: ', regr.coef_)"
   ]
  },
  {
   "cell_type": "code",
   "execution_count": 105,
   "metadata": {},
   "outputs": [
    {
     "name": "stdout",
     "output_type": "stream",
     "text": [
      "Residual sum of squares: 12.05\n",
      "Variance score for SGR: -5.21\n"
     ]
    }
   ],
   "source": [
    "y_hat= regr.predict(test[['percentage_inclusion','Fish_weight', 'Ash Content','moisture', 'Crude_fibre', 'NFE', 'protein', 'Fat', 'Culture_period']])\n",
    "x= np.asanyarray(test[['percentage_inclusion','Fish_weight', 'Ash Content','moisture', 'Crude_fibre', 'NFE', 'protein', 'Fat', 'Culture_period']])\n",
    "y= np.asanyarray(test[['SGR']])\n",
    "print('Residual sum of squares: %.2f'%np.mean((y_hat)**2))\n",
    "print('Variance score for SGR: %.2f'%regr.score(x, y))"
   ]
  },
  {
   "cell_type": "code",
   "execution_count": 107,
   "metadata": {},
   "outputs": [
    {
     "data": {
      "image/png": "[encoded data removed]",
      "text/plain": [
       "<Figure size 432x288 with 1 Axes>"
      ]
     },
     "metadata": {
      "needs_background": "light"
     },
     "output_type": "display_data"
    }
   ],
   "source": [
    "## Using seaborn to check the appropriateness on a distribution plot\n",
    "ax1= sns.distplot(df['SGR'], hist= False, color= 'r', label= 'Actual Specific Growth Rate')\n",
    "ax1= sns.distplot(y_hat, hist= 'false', color= 'b', label= 'Model prediction', ax= ax1)"
   ]
  },
  {
   "cell_type": "markdown",
   "metadata": {},
   "source": [
    "#  MULTIPLE LINEAR REGRESSION MODEL AND DISTRIBUTION PLOT FOR FEED CONVERSION RATIO(FCR) VS NUTRITIONAL FEED COMPONENTS"
   ]
  },
  {
   "cell_type": "code",
   "execution_count": 108,
   "metadata": {},
   "outputs": [
    {
     "name": "stdout",
     "output_type": "stream",
     "text": [
      "Regression coefficient for FCR vs Nutrition [[ 0.10526429  0.19286711  0.00789994  0.11847951 -0.10741592 -0.15065779\n",
      "  -0.19748467 -0.15783122  0.27528163]]\n"
     ]
    }
   ],
   "source": [
    "x= np.asanyarray(train[['percentage_inclusion','Fish_weight', 'Ash Content','moisture', 'Crude_fibre', 'NFE', 'protein', 'Fat', 'Culture_period']])\n",
    "y= np.asanyarray(train[['FCR']])\n",
    "regr.fit(x,y)\n",
    "print('Regression coefficient for FCR vs Nutrition', regr.coef_)"
   ]
  },
  {
   "cell_type": "code",
   "execution_count": 109,
   "metadata": {},
   "outputs": [
    {
     "name": "stdout",
     "output_type": "stream",
     "text": [
      "Residual sum of squares for FCR vs Nutritional Factors is : 3.28\n",
      "Variance score for FCR vs Nutritional factors is : -66.51\n"
     ]
    }
   ],
   "source": [
    "y_hat= regr.predict(test[['percentage_inclusion','Fish_weight', 'Ash Content','moisture', 'Crude_fibre', 'NFE', 'protein', 'Fat', 'Culture_period']])\n",
    "x= np.asanyarray(test[['percentage_inclusion','Fish_weight', 'Ash Content','moisture', 'Crude_fibre', 'NFE', 'protein', 'Fat', 'Culture_period']])\n",
    "y= np.asanyarray(test[['FCR']])\n",
    "print('Residual sum of squares for FCR vs Nutritional Factors is : %.2f'%np.mean((y_hat)**2))\n",
    "print('Variance score for FCR vs Nutritional factors is : %.2f'%regr.score(x, y))"
   ]
  },
  {
   "cell_type": "code",
   "execution_count": 110,
   "metadata": {},
   "outputs": [
    {
     "data": {
      "image/png": "[encoded data removed]",
      "text/plain": [
       "<Figure size 432x288 with 1 Axes>"
      ]
     },
     "metadata": {
      "needs_background": "light"
     },
     "output_type": "display_data"
    }
   ],
   "source": [
    "ax2= sns.distplot(df['FCR'], hist= False, color= 'y', label= 'Actual FCR Values')\n",
    "ax2= sns.distplot(y_hat, hist= False, color= 'b', label= 'Model Predicted Values', ax= ax2)"
   ]
  },
  {
   "cell_type": "markdown",
   "metadata": {},
   "source": [
    "#  PROTEIN EFFICIENCY RATIO"
   ]
  },
  {
   "cell_type": "code",
   "execution_count": 112,
   "metadata": {},
   "outputs": [
    {
     "name": "stdout",
     "output_type": "stream",
     "text": [
      "Regression coefficient for PER vs Nutrition [[-0.00365417 -0.07475169 -0.12883157 -0.04607632  0.11843641  0.08418672\n",
      "   0.21699545  0.22669627 -0.28105186]]\n"
     ]
    }
   ],
   "source": [
    "x= np.asanyarray(train[['percentage_inclusion','Fish_weight','moisture', 'Ash Content', 'Crude_fibre', 'NFE', 'protein', 'Fat', 'Culture_period']])\n",
    "y= np.asanyarray(train[['PER']])\n",
    "regr.fit(x,y)\n",
    "print('Regression coefficient for PER vs Nutrition', regr.coef_)"
   ]
  },
  {
   "cell_type": "code",
   "execution_count": 113,
   "metadata": {},
   "outputs": [
    {
     "name": "stdout",
     "output_type": "stream",
     "text": [
      "Residual sum of squares for PER vs Nutritional Factors is : 3.56\n",
      "Variance score for PER vs Nutritional factors is : 0.80\n"
     ]
    }
   ],
   "source": [
    "y_hat= regr.predict(test[['percentage_inclusion','Fish_weight','moisture', 'Ash Content', 'Crude_fibre', 'NFE', 'protein', 'Fat', 'Culture_period']])\n",
    "x= np.asanyarray(test[['percentage_inclusion','Fish_weight','moisture', 'Ash Content', 'Crude_fibre', 'NFE', 'protein', 'Fat', 'Culture_period']])\n",
    "y= np.asanyarray(test[['PER']])\n",
    "print('Residual sum of squares for PER vs Nutritional Factors is : %.2f'%np.mean((y_hat)**2))\n",
    "print('Variance score for PER vs Nutritional factors is : %.2f'%regr.score(x, y))"
   ]
  },
  {
   "cell_type": "code",
   "execution_count": 114,
   "metadata": {},
   "outputs": [
    {
     "data": {
      "image/png": "[encoded data removed]",
      "text/plain": [
       "<Figure size 432x288 with 1 Axes>"
      ]
     },
     "metadata": {
      "needs_background": "light"
     },
     "output_type": "display_data"
    }
   ],
   "source": [
    "ax3= sns.distplot(df['PER'], hist= False, color= 'y', label= 'Actual PER Values')\n",
    "ax3= sns.distplot(y_hat, hist= False, color= 'b', label= 'Model Predicted Values', ax= ax3)"
   ]
  },
  {
   "cell_type": "code",
   "execution_count": null,
   "metadata": {},
   "outputs": [],
   "source": []
  },
  {
   "cell_type": "code",
   "execution_count": null,
   "metadata": {},
   "outputs": [],
   "source": []
  },
  {
   "cell_type": "markdown",
   "metadata": {},
   "source": [
    "\n"
   ]
  },
  {
   "cell_type": "markdown",
   "metadata": {},
   "source": [
    "# MODEL PREDICTION VISUALIZATIONS FOR PER"
   ]
  },
  {
   "cell_type": "code",
   "execution_count": 229,
   "metadata": {},
   "outputs": [],
   "source": [
    "# FOR PER\n",
    "y_data= df['PER']\n",
    "x_data= df.drop('PER', axis = 1)"
   ]
  },
  {
   "cell_type": "code",
   "execution_count": null,
   "metadata": {},
   "outputs": [],
   "source": []
  },
  {
   "cell_type": "code",
   "execution_count": 230,
   "metadata": {},
   "outputs": [
    {
     "name": "stdout",
     "output_type": "stream",
     "text": [
      "number of test samples : 4\n",
      "number of training samples: 8\n"
     ]
    }
   ],
   "source": [
    "## Randomly split the data into train test split\n",
    "from sklearn.model_selection import train_test_split\n",
    "\n",
    "\n",
    "x_train, x_test, y_train, y_test = train_test_split(x_data, y_data, test_size=0.3, random_state=1)\n",
    "\n",
    "\n",
    "print(\"number of test samples :\", x_test.shape[0])\n",
    "print(\"number of training samples:\",x_train.shape[0])"
   ]
  },
  {
   "cell_type": "code",
   "execution_count": 231,
   "metadata": {},
   "outputs": [],
   "source": [
    "from sklearn.linear_model import LinearRegression"
   ]
  },
  {
   "cell_type": "code",
   "execution_count": 232,
   "metadata": {},
   "outputs": [
    {
     "data": {
      "text/plain": [
       "LinearRegression(copy_X=True, fit_intercept=True, n_jobs=None, normalize=False)"
      ]
     },
     "execution_count": 232,
     "metadata": {},
     "output_type": "execute_result"
    }
   ],
   "source": [
    "lre= LinearRegression()\n",
    "lre.fit(x_train[['protein']], y_train)"
   ]
  },
  {
   "cell_type": "code",
   "execution_count": 233,
   "metadata": {},
   "outputs": [
    {
     "data": {
      "text/plain": [
       "-4.691046368778455"
      ]
     },
     "execution_count": 233,
     "metadata": {},
     "output_type": "execute_result"
    }
   ],
   "source": [
    "lre.score(x_test[['protein']], y_test)"
   ]
  },
  {
   "cell_type": "code",
   "execution_count": 234,
   "metadata": {},
   "outputs": [
    {
     "data": {
      "text/plain": [
       "0.5891151926883638"
      ]
     },
     "execution_count": 234,
     "metadata": {},
     "output_type": "execute_result"
    }
   ],
   "source": [
    "lre.score(x_train[['protein']], y_train)"
   ]
  },
  {
   "cell_type": "code",
   "execution_count": 235,
   "metadata": {},
   "outputs": [
    {
     "data": {
      "text/plain": [
       "Index(['Unnamed: 0', 'DATA SOURCE', 'protein feedstuff',\n",
       "       'percentage_inclusion', 'Culture_period', 'Fish_weight', 'moisture',\n",
       "       'Crude_fibre', 'NFE', 'Unnamed: 9', 'protein', 'Fat', 'Ash Content',\n",
       "       'WG', 'FCR', 'SGR', 'PER'],\n",
       "      dtype='object')"
      ]
     },
     "execution_count": 235,
     "metadata": {},
     "output_type": "execute_result"
    }
   ],
   "source": [
    "df.columns"
   ]
  },
  {
   "cell_type": "markdown",
   "metadata": {},
   "source": [
    "# "
   ]
  },
  {
   "cell_type": "code",
   "execution_count": 236,
   "metadata": {},
   "outputs": [
    {
     "data": {
      "text/plain": [
       "LinearRegression(copy_X=True, fit_intercept=True, n_jobs=None, normalize=False)"
      ]
     },
     "execution_count": 236,
     "metadata": {},
     "output_type": "execute_result"
    }
   ],
   "source": [
    "# MULTIPLE LINEAR REGRESSION FROM HERE\n",
    "lr= LinearRegression()\n",
    "lr.fit(x_train[['percentage_inclusion','Fish_weight','moisture', 'Ash Content', 'Crude_fibre', 'NFE', 'protein', 'Fat', 'Culture_period']], y_train)"
   ]
  },
  {
   "cell_type": "code",
   "execution_count": 237,
   "metadata": {},
   "outputs": [],
   "source": [
    "x_train= df[['percentage_inclusion','Fish_weight','moisture', 'Ash Content', 'Crude_fibre', 'NFE', 'protein', 'Fat', 'Culture_period']]"
   ]
  },
  {
   "cell_type": "code",
   "execution_count": 238,
   "metadata": {},
   "outputs": [
    {
     "data": {
      "text/plain": [
       "array([2.16      , 2.04      , 5.53290252, 5.29877986, 2.91490224])"
      ]
     },
     "execution_count": 238,
     "metadata": {},
     "output_type": "execute_result"
    }
   ],
   "source": [
    "## prediction using training data\n",
    "yhat_train= lr.predict(x_train)\n",
    "yhat_train"
   ]
  },
  {
   "cell_type": "code",
   "execution_count": 239,
   "metadata": {},
   "outputs": [],
   "source": [
    "def DistributionPlot(RedFunction, BlueFunction, RedName, BlueName, Title):\n",
    "    width = 12\n",
    "    height = 10\n",
    "    plt.figure(figsize=(width, height))\n",
    "\n",
    "    ax1 = sns.distplot(RedFunction, hist=False, color=\"r\", label=RedName)\n",
    "    ax2 = sns.distplot(BlueFunction, hist=False, color=\"b\", label=BlueName, ax=ax1)\n",
    "\n",
    "    plt.title(Title)\n",
    "    plt.xlabel('NUTRITIONAL COMPONENTS')\n",
    "    plt.ylabel('PREDICTIONS')\n",
    "\n",
    "    plt.show()\n",
    "    plt.close()"
   ]
  },
  {
   "cell_type": "code",
   "execution_count": 240,
   "metadata": {},
   "outputs": [
    {
     "data": {
      "image/png": "[encoded data removed]",
      "text/plain": [
       "<Figure size 864x720 with 1 Axes>"
      ]
     },
     "metadata": {
      "needs_background": "light"
     },
     "output_type": "display_data"
    }
   ],
   "source": [
    "## EVALUATING THE NEWLY CREATED MODEL\n",
    "Title = 'Distribution  Plot of  Predicted Value Using Training Data vs Training Data Distribution'\n",
    "DistributionPlot(y_train, yhat_train, \"Actual Values (Train)\", \"Predicted Values (Train)\", Title)"
   ]
  },
  {
   "cell_type": "markdown",
   "metadata": {},
   "source": [
    "## MODEL PREDICTION VISUALIZATION FOR SGR"
   ]
  },
  {
   "cell_type": "code",
   "execution_count": 241,
   "metadata": {},
   "outputs": [],
   "source": [
    "y_data= df['SGR']\n",
    "x_data= df.drop('SGR', axis = 1)"
   ]
  },
  {
   "cell_type": "code",
   "execution_count": 242,
   "metadata": {},
   "outputs": [
    {
     "name": "stdout",
     "output_type": "stream",
     "text": [
      "number of test samples : 4\n",
      "number of training samples: 8\n"
     ]
    }
   ],
   "source": [
    "from sklearn.model_selection import train_test_split\n",
    "\n",
    "\n",
    "x_train, x_test, y_train, y_test = train_test_split(x_data, y_data, test_size=0.3, random_state=1)\n",
    "\n",
    "\n",
    "print(\"number of test samples :\", x_test.shape[0])\n",
    "print(\"number of training samples:\",x_train.shape[0])"
   ]
  },
  {
   "cell_type": "code",
   "execution_count": null,
   "metadata": {},
   "outputs": [],
   "source": []
  },
  {
   "cell_type": "code",
   "execution_count": 243,
   "metadata": {},
   "outputs": [
    {
     "data": {
      "text/plain": [
       "LinearRegression(copy_X=True, fit_intercept=True, n_jobs=None, normalize=False)"
      ]
     },
     "execution_count": 243,
     "metadata": {},
     "output_type": "execute_result"
    }
   ],
   "source": [
    "lr= LinearRegression()\n",
    "lr.fit(x_train[['percentage_inclusion','Fish_weight','moisture', 'Ash Content', 'Crude_fibre', 'NFE', 'protein', 'Fat', 'Culture_period']], y_train)\n"
   ]
  },
  {
   "cell_type": "code",
   "execution_count": 244,
   "metadata": {},
   "outputs": [],
   "source": [
    "x_train= df[['percentage_inclusion','Fish_weight','moisture', 'Ash Content', 'Crude_fibre', 'NFE', 'protein', 'Fat', 'Culture_period']]\n"
   ]
  },
  {
   "cell_type": "code",
   "execution_count": 245,
   "metadata": {},
   "outputs": [
    {
     "data": {
      "text/plain": [
       "array([8.56      , 7.79      , 6.55431258, 5.913438  , 3.4983249 ,\n",
       "       2.55      , 2.56      , 0.97      , 0.95      , 1.09      ,\n",
       "       0.88751811, 0.94      ])"
      ]
     },
     "execution_count": 245,
     "metadata": {},
     "output_type": "execute_result"
    }
   ],
   "source": [
    "yhat_train= lr.predict(x_train)\n",
    "yhat_train"
   ]
  },
  {
   "cell_type": "code",
   "execution_count": 246,
   "metadata": {},
   "outputs": [
    {
     "data": {
      "image/png": "[encoded data removed]",
      "text/plain": [
       "<Figure size 864x720 with 1 Axes>"
      ]
     },
     "metadata": {
      "needs_background": "light"
     },
     "output_type": "display_data"
    }
   ],
   "source": [
    "Title = 'Distribution  Plot of  Predicted SPECIFIC GROWTH RATE'\n",
    "DistributionPlot(y_train, yhat_train, \"Recorded SGR (Train)\", \"Predicted Values (SGR)\", Title)"
   ]
  },
  {
   "cell_type": "markdown",
   "metadata": {},
   "source": [
    "# MODEL PREDICTION VISUALIZATION FOR WG"
   ]
  },
  {
   "cell_type": "code",
   "execution_count": 266,
   "metadata": {},
   "outputs": [
    {
     "name": "stdout",
     "output_type": "stream",
     "text": [
      "number of test samples : 4\n",
      "number of training samples: 8\n"
     ]
    }
   ],
   "source": [
    "y_data= df['WG']\n",
    "x_data= df.drop('WG', axis = 1)\n",
    "from sklearn.model_selection import train_test_split\n",
    "\n",
    "\n",
    "x_train, x_test, y_train, y_test = train_test_split(x_data, y_data, test_size=0.3, random_state=1)\n",
    "\n",
    "\n",
    "print(\"number of test samples :\", x_test.shape[0])\n",
    "print(\"number of training samples:\",x_train.shape[0])"
   ]
  },
  {
   "cell_type": "code",
   "execution_count": 267,
   "metadata": {},
   "outputs": [
    {
     "data": {
      "text/plain": [
       "LinearRegression(copy_X=True, fit_intercept=True, n_jobs=None, normalize=False)"
      ]
     },
     "execution_count": 267,
     "metadata": {},
     "output_type": "execute_result"
    }
   ],
   "source": [
    "lr= LinearRegression()\n",
    "lr.fit(x_train[['percentage_inclusion','Fish_weight','moisture', 'Ash Content', 'Crude_fibre', 'NFE', 'protein', 'Fat', 'Culture_period']], y_train)\n"
   ]
  },
  {
   "cell_type": "code",
   "execution_count": 268,
   "metadata": {},
   "outputs": [],
   "source": [
    "x_train= df[['percentage_inclusion','Fish_weight','moisture', 'Ash Content', 'Crude_fibre', 'NFE', 'protein', 'Fat', 'Culture_period']]\n"
   ]
  },
  {
   "cell_type": "code",
   "execution_count": 269,
   "metadata": {},
   "outputs": [
    {
     "data": {
      "text/plain": [
       "array([999.62      , 788.46      , 633.81812712, 523.9567306 ,\n",
       "       429.74096757, 259.02      , 263.98      , 127.5       ,\n",
       "       122.6       , 150.9       , 130.50136411, 152.8       ])"
      ]
     },
     "execution_count": 269,
     "metadata": {},
     "output_type": "execute_result"
    }
   ],
   "source": [
    "yhat_train= lr.predict(x_train)\n",
    "yhat_train"
   ]
  },
  {
   "cell_type": "code",
   "execution_count": 270,
   "metadata": {},
   "outputs": [
    {
     "data": {
      "image/png": "[encoded data removed]",
      "text/plain": [
       "<Figure size 864x720 with 1 Axes>"
      ]
     },
     "metadata": {
      "needs_background": "light"
     },
     "output_type": "display_data"
    }
   ],
   "source": [
    "Title = 'Distribution  Plot of  Predicted WEIGHT GAINED'\n",
    "DistributionPlot(y_train, yhat_train, \"Recorded WG (Train)\", \"Predicted Values (WG)\", Title)"
   ]
  },
  {
   "cell_type": "markdown",
   "metadata": {},
   "source": [
    "#  MODEL PREDICTION FOR FEED CONVERSION RATIO"
   ]
  },
  {
   "cell_type": "code",
   "execution_count": 271,
   "metadata": {},
   "outputs": [
    {
     "name": "stdout",
     "output_type": "stream",
     "text": [
      "number of test sample:  4\n",
      "number of train sample 8\n"
     ]
    }
   ],
   "source": [
    "y_data= df['FCR']\n",
    "x_data= df.drop(['FCR'], axis = 1)\n",
    "x_train, x_test, y_train, y_test= train_test_split(x_data, y_data, test_size= 0.3, random_state= 1)\n",
    "print('number of test sample: ', x_test.shape[0])\n",
    "print('number of train sample', x_train.shape[0])"
   ]
  },
  {
   "cell_type": "code",
   "execution_count": 272,
   "metadata": {},
   "outputs": [],
   "source": [
    "lr.fit(x_train[['percentage_inclusion','Fish_weight','moisture', 'Ash Content', 'Crude_fibre', 'NFE', 'protein', 'Fat', 'Culture_period']], y_train)\n",
    "x_train= df[['percentage_inclusion','Fish_weight','moisture', 'Ash Content', 'Crude_fibre', 'NFE', 'protein', 'Fat', 'Culture_period']]\n"
   ]
  },
  {
   "cell_type": "code",
   "execution_count": 273,
   "metadata": {},
   "outputs": [
    {
     "data": {
      "text/plain": [
       "array([1.24      , 1.34      , 2.14534596, 2.04668605, 1.2645656 ,\n",
       "       1.17      , 1.16      , 0.65      , 0.68      , 0.7       ,\n",
       "       0.64366227, 0.62      ])"
      ]
     },
     "execution_count": 273,
     "metadata": {},
     "output_type": "execute_result"
    }
   ],
   "source": [
    "yhat_train= lr.predict(x_train)\n",
    "yhat_train"
   ]
  },
  {
   "cell_type": "code",
   "execution_count": 274,
   "metadata": {},
   "outputs": [
    {
     "data": {
      "image/png": "[encoded data removed]",
      "text/plain": [
       "<Figure size 864x720 with 1 Axes>"
      ]
     },
     "metadata": {
      "needs_background": "light"
     },
     "output_type": "display_data"
    }
   ],
   "source": [
    "Title = 'MODEL PREDICTION FOR FEED CONVERSION RATIO'\n",
    "DistributionPlot(y_train, yhat_train, \"Recorded FCR (Train)\", \"Predicted Values (FCR)\", Title)"
   ]
  },
  {
   "cell_type": "code",
   "execution_count": 276,
   "metadata": {},
   "outputs": [
    {
     "name": "stdout",
     "output_type": "stream",
     "text": [
      "Regression coefficient [-0.00087724  0.11174702  0.10874878  0.01111408 -0.07316067 -0.03162679\n",
      " -0.07566898  0.04370027 -0.05987659]\n"
     ]
    }
   ],
   "source": [
    "print('R2 value =',lr.score_)\n",
    "print('Regression coefficient', lr.coef_)"
   ]
  },
  {
   "cell_type": "code",
   "execution_count": null,
   "metadata": {},
   "outputs": [],
   "source": []
  },
  {
   "cell_type": "code",
   "execution_count": 265,
   "metadata": {},
   "outputs": [
    {
     "data": {
      "text/html": [
       "<div>\n",
       "<style scoped>\n",
       "    .dataframe tbody tr th:only-of-type {\n",
       "        vertical-align: middle;\n",
       "    }\n",
       "\n",
       "    .dataframe tbody tr th {\n",
       "        vertical-align: top;\n",
       "    }\n",
       "\n",
       "    .dataframe thead th {\n",
       "        text-align: right;\n",
       "    }\n",
       "</style>\n",
       "<table border=\"1\" class=\"dataframe\">\n",
       "  <thead>\n",
       "    <tr style=\"text-align: right;\">\n",
       "      <th></th>\n",
       "      <th>Unnamed: 0</th>\n",
       "      <th>DATA SOURCE</th>\n",
       "      <th>protein feedstuff</th>\n",
       "      <th>percentage_inclusion</th>\n",
       "      <th>Culture_period</th>\n",
       "      <th>Fish_weight</th>\n",
       "      <th>moisture</th>\n",
       "      <th>Crude_fibre</th>\n",
       "      <th>NFE</th>\n",
       "      <th>Unnamed: 9</th>\n",
       "      <th>protein</th>\n",
       "      <th>Fat</th>\n",
       "      <th>Ash Content</th>\n",
       "      <th>WG</th>\n",
       "      <th>SGR</th>\n",
       "      <th>PER</th>\n",
       "    </tr>\n",
       "  </thead>\n",
       "  <tbody>\n",
       "    <tr>\n",
       "      <th>0</th>\n",
       "      <td>NaN</td>\n",
       "      <td>lim leong</td>\n",
       "      <td>fish meal</td>\n",
       "      <td>56.65</td>\n",
       "      <td>4</td>\n",
       "      <td>2.85</td>\n",
       "      <td>4.78</td>\n",
       "      <td>4.811</td>\n",
       "      <td>25.85</td>\n",
       "      <td>NaN</td>\n",
       "      <td>39.82</td>\n",
       "      <td>11.45</td>\n",
       "      <td>86.55</td>\n",
       "      <td>999.62</td>\n",
       "      <td>8.56</td>\n",
       "      <td>2.16</td>\n",
       "    </tr>\n",
       "    <tr>\n",
       "      <th>1</th>\n",
       "      <td>NaN</td>\n",
       "      <td>NaN</td>\n",
       "      <td>feather meal</td>\n",
       "      <td>9.86</td>\n",
       "      <td>4</td>\n",
       "      <td>2.85</td>\n",
       "      <td>5.12</td>\n",
       "      <td>4.811</td>\n",
       "      <td>25.85</td>\n",
       "      <td>NaN</td>\n",
       "      <td>39.51</td>\n",
       "      <td>11.20</td>\n",
       "      <td>87.40</td>\n",
       "      <td>788.46</td>\n",
       "      <td>7.79</td>\n",
       "      <td>2.04</td>\n",
       "    </tr>\n",
       "    <tr>\n",
       "      <th>2</th>\n",
       "      <td>NaN</td>\n",
       "      <td>adetarami</td>\n",
       "      <td>fish meal</td>\n",
       "      <td>31.73</td>\n",
       "      <td>12</td>\n",
       "      <td>21.70</td>\n",
       "      <td>9.90</td>\n",
       "      <td>3.740</td>\n",
       "      <td>23.98</td>\n",
       "      <td>NaN</td>\n",
       "      <td>44.20</td>\n",
       "      <td>4.76</td>\n",
       "      <td>13.27</td>\n",
       "      <td>193.26</td>\n",
       "      <td>0.69</td>\n",
       "      <td>0.46</td>\n",
       "    </tr>\n",
       "    <tr>\n",
       "      <th>3</th>\n",
       "      <td>NaN</td>\n",
       "      <td>NaN</td>\n",
       "      <td>maggot</td>\n",
       "      <td>22.77</td>\n",
       "      <td>12</td>\n",
       "      <td>21.80</td>\n",
       "      <td>8.90</td>\n",
       "      <td>3.760</td>\n",
       "      <td>25.47</td>\n",
       "      <td>NaN</td>\n",
       "      <td>43.50</td>\n",
       "      <td>4.60</td>\n",
       "      <td>12.70</td>\n",
       "      <td>298.16</td>\n",
       "      <td>0.96</td>\n",
       "      <td>0.58</td>\n",
       "    </tr>\n",
       "    <tr>\n",
       "      <th>4</th>\n",
       "      <td>NaN</td>\n",
       "      <td>chukwuemeka</td>\n",
       "      <td>fish meal</td>\n",
       "      <td>25.00</td>\n",
       "      <td>10</td>\n",
       "      <td>10.00</td>\n",
       "      <td>9.55</td>\n",
       "      <td>4.100</td>\n",
       "      <td>25.85</td>\n",
       "      <td>NaN</td>\n",
       "      <td>40.76</td>\n",
       "      <td>9.20</td>\n",
       "      <td>10.59</td>\n",
       "      <td>248.61</td>\n",
       "      <td>2.53</td>\n",
       "      <td>2.55</td>\n",
       "    </tr>\n",
       "    <tr>\n",
       "      <th>5</th>\n",
       "      <td>NaN</td>\n",
       "      <td>NaN</td>\n",
       "      <td>maggot</td>\n",
       "      <td>12.50</td>\n",
       "      <td>10</td>\n",
       "      <td>10.00</td>\n",
       "      <td>9.22</td>\n",
       "      <td>4.870</td>\n",
       "      <td>25.85</td>\n",
       "      <td>NaN</td>\n",
       "      <td>40.59</td>\n",
       "      <td>8.98</td>\n",
       "      <td>9.10</td>\n",
       "      <td>259.02</td>\n",
       "      <td>2.55</td>\n",
       "      <td>2.60</td>\n",
       "    </tr>\n",
       "    <tr>\n",
       "      <th>6</th>\n",
       "      <td>NaN</td>\n",
       "      <td>NaN</td>\n",
       "      <td>maggot</td>\n",
       "      <td>25.00</td>\n",
       "      <td>10</td>\n",
       "      <td>10.00</td>\n",
       "      <td>9.87</td>\n",
       "      <td>5.220</td>\n",
       "      <td>25.85</td>\n",
       "      <td>NaN</td>\n",
       "      <td>40.74</td>\n",
       "      <td>8.51</td>\n",
       "      <td>8.00</td>\n",
       "      <td>263.98</td>\n",
       "      <td>2.56</td>\n",
       "      <td>2.60</td>\n",
       "    </tr>\n",
       "    <tr>\n",
       "      <th>7</th>\n",
       "      <td>NaN</td>\n",
       "      <td>Falaye et al</td>\n",
       "      <td>aqualis/fishmeal CT</td>\n",
       "      <td>13.63</td>\n",
       "      <td>12</td>\n",
       "      <td>5.00</td>\n",
       "      <td>9.96</td>\n",
       "      <td>4.200</td>\n",
       "      <td>28.45</td>\n",
       "      <td>NaN</td>\n",
       "      <td>37.42</td>\n",
       "      <td>4.36</td>\n",
       "      <td>15.78</td>\n",
       "      <td>127.50</td>\n",
       "      <td>0.97</td>\n",
       "      <td>0.52</td>\n",
       "    </tr>\n",
       "    <tr>\n",
       "      <th>8</th>\n",
       "      <td>NaN</td>\n",
       "      <td>NaN</td>\n",
       "      <td>T1</td>\n",
       "      <td>13.30</td>\n",
       "      <td>12</td>\n",
       "      <td>5.00</td>\n",
       "      <td>9.78</td>\n",
       "      <td>5.530</td>\n",
       "      <td>28.20</td>\n",
       "      <td>NaN</td>\n",
       "      <td>35.96</td>\n",
       "      <td>4.98</td>\n",
       "      <td>15.88</td>\n",
       "      <td>122.60</td>\n",
       "      <td>0.95</td>\n",
       "      <td>0.50</td>\n",
       "    </tr>\n",
       "    <tr>\n",
       "      <th>9</th>\n",
       "      <td>NaN</td>\n",
       "      <td>NaN</td>\n",
       "      <td>T2</td>\n",
       "      <td>13.30</td>\n",
       "      <td>12</td>\n",
       "      <td>5.00</td>\n",
       "      <td>9.89</td>\n",
       "      <td>5.510</td>\n",
       "      <td>27.30</td>\n",
       "      <td>NaN</td>\n",
       "      <td>36.42</td>\n",
       "      <td>5.24</td>\n",
       "      <td>16.02</td>\n",
       "      <td>150.90</td>\n",
       "      <td>1.09</td>\n",
       "      <td>0.56</td>\n",
       "    </tr>\n",
       "    <tr>\n",
       "      <th>10</th>\n",
       "      <td>NaN</td>\n",
       "      <td>NaN</td>\n",
       "      <td>T3</td>\n",
       "      <td>13.00</td>\n",
       "      <td>12</td>\n",
       "      <td>5.00</td>\n",
       "      <td>9.93</td>\n",
       "      <td>5.600</td>\n",
       "      <td>24.92</td>\n",
       "      <td>NaN</td>\n",
       "      <td>38.25</td>\n",
       "      <td>5.46</td>\n",
       "      <td>15.95</td>\n",
       "      <td>150.10</td>\n",
       "      <td>1.09</td>\n",
       "      <td>0.56</td>\n",
       "    </tr>\n",
       "    <tr>\n",
       "      <th>11</th>\n",
       "      <td>NaN</td>\n",
       "      <td>NaN</td>\n",
       "      <td>T4</td>\n",
       "      <td>13.00</td>\n",
       "      <td>12</td>\n",
       "      <td>5.00</td>\n",
       "      <td>9.88</td>\n",
       "      <td>5.580</td>\n",
       "      <td>22.63</td>\n",
       "      <td>NaN</td>\n",
       "      <td>40.20</td>\n",
       "      <td>6.66</td>\n",
       "      <td>16.22</td>\n",
       "      <td>152.80</td>\n",
       "      <td>0.94</td>\n",
       "      <td>0.55</td>\n",
       "    </tr>\n",
       "  </tbody>\n",
       "</table>\n",
       "</div>"
      ],
      "text/plain": [
       "    Unnamed: 0   DATA SOURCE    protein feedstuff  percentage_inclusion  \\\n",
       "0          NaN     lim leong            fish meal                 56.65   \n",
       "1          NaN           NaN         feather meal                  9.86   \n",
       "2          NaN     adetarami            fish meal                 31.73   \n",
       "3          NaN           NaN               maggot                 22.77   \n",
       "4          NaN   chukwuemeka            fish meal                 25.00   \n",
       "5          NaN           NaN               maggot                 12.50   \n",
       "6          NaN           NaN               maggot                 25.00   \n",
       "7          NaN  Falaye et al  aqualis/fishmeal CT                 13.63   \n",
       "8          NaN           NaN                   T1                 13.30   \n",
       "9          NaN           NaN                   T2                 13.30   \n",
       "10         NaN           NaN                   T3                 13.00   \n",
       "11         NaN           NaN                   T4                 13.00   \n",
       "\n",
       "    Culture_period  Fish_weight  moisture  Crude_fibre    NFE  Unnamed: 9  \\\n",
       "0                4         2.85      4.78        4.811  25.85         NaN   \n",
       "1                4         2.85      5.12        4.811  25.85         NaN   \n",
       "2               12        21.70      9.90        3.740  23.98         NaN   \n",
       "3               12        21.80      8.90        3.760  25.47         NaN   \n",
       "4               10        10.00      9.55        4.100  25.85         NaN   \n",
       "5               10        10.00      9.22        4.870  25.85         NaN   \n",
       "6               10        10.00      9.87        5.220  25.85         NaN   \n",
       "7               12         5.00      9.96        4.200  28.45         NaN   \n",
       "8               12         5.00      9.78        5.530  28.20         NaN   \n",
       "9               12         5.00      9.89        5.510  27.30         NaN   \n",
       "10              12         5.00      9.93        5.600  24.92         NaN   \n",
       "11              12         5.00      9.88        5.580  22.63         NaN   \n",
       "\n",
       "    protein    Fat  Ash Content      WG   SGR   PER  \n",
       "0     39.82  11.45        86.55  999.62  8.56  2.16  \n",
       "1     39.51  11.20        87.40  788.46  7.79  2.04  \n",
       "2     44.20   4.76        13.27  193.26  0.69  0.46  \n",
       "3     43.50   4.60        12.70  298.16  0.96  0.58  \n",
       "4     40.76   9.20        10.59  248.61  2.53  2.55  \n",
       "5     40.59   8.98         9.10  259.02  2.55  2.60  \n",
       "6     40.74   8.51         8.00  263.98  2.56  2.60  \n",
       "7     37.42   4.36        15.78  127.50  0.97  0.52  \n",
       "8     35.96   4.98        15.88  122.60  0.95  0.50  \n",
       "9     36.42   5.24        16.02  150.90  1.09  0.56  \n",
       "10    38.25   5.46        15.95  150.10  1.09  0.56  \n",
       "11    40.20   6.66        16.22  152.80  0.94  0.55  "
      ]
     },
     "execution_count": 265,
     "metadata": {},
     "output_type": "execute_result"
    }
   ],
   "source": [
    "x_data"
   ]
  },
  {
   "cell_type": "code",
   "execution_count": null,
   "metadata": {},
   "outputs": [],
   "source": []
  },
  {
   "cell_type": "code",
   "execution_count": null,
   "metadata": {},
   "outputs": [],
   "source": []
  },
  {
   "cell_type": "markdown",
   "metadata": {},
   "source": [
    "# OVERFITTING"
   ]
  },
  {
   "cell_type": "code",
   "execution_count": 277,
   "metadata": {},
   "outputs": [],
   "source": [
    "from sklearn.preprocessing import PolynomialFeatures"
   ]
  },
  {
   "cell_type": "code",
   "execution_count": 278,
   "metadata": {},
   "outputs": [],
   "source": [
    "## USING 55% OF DATA FOR TESTING $ TRAINING\n",
    "x_train, x_test, y_train, y_test= train_test_split(x_data, y_data, test_size= 0.45, random_state= 0)"
   ]
  },
  {
   "cell_type": "code",
   "execution_count": 279,
   "metadata": {},
   "outputs": [
    {
     "data": {
      "text/plain": [
       "PolynomialFeatures(degree=5, include_bias=True, interaction_only=False,\n",
       "                   order='C')"
      ]
     },
     "execution_count": 279,
     "metadata": {},
     "output_type": "execute_result"
    }
   ],
   "source": [
    "## 5 degree polynomial transformation on the data\n",
    "pr= PolynomialFeatures(degree= 5)\n",
    "x_train_pr= pr.fit_transform(x_train[['SGR']])\n",
    "x_test_pr=pr.fit_transform(x_test[['SGR']])\n",
    "pr"
   ]
  },
  {
   "cell_type": "code",
   "execution_count": 293,
   "metadata": {},
   "outputs": [
    {
     "data": {
      "text/plain": [
       "LinearRegression(copy_X=True, fit_intercept=True, n_jobs=None, normalize=False)"
      ]
     },
     "execution_count": 293,
     "metadata": {},
     "output_type": "execute_result"
    }
   ],
   "source": [
    "poly= LinearRegression()\n",
    "poly.fit(x_train_pr, y_train)"
   ]
  },
  {
   "cell_type": "code",
   "execution_count": 302,
   "metadata": {},
   "outputs": [
    {
     "data": {
      "text/plain": [
       "array([-252.84925365,   11.87899112,  477.46888879,    0.70000002,\n",
       "        211.0483782 ,    7.70810096])"
      ]
     },
     "execution_count": 302,
     "metadata": {},
     "output_type": "execute_result"
    }
   ],
   "source": [
    "yhat=poly.predict(x_test_pr)\n",
    "yhat\n",
    "## compare prediction values with those generated from MLR model"
   ]
  },
  {
   "cell_type": "code",
   "execution_count": 306,
   "metadata": {},
   "outputs": [
    {
     "data": {
      "text/html": [
       "<div>\n",
       "<style scoped>\n",
       "    .dataframe tbody tr th:only-of-type {\n",
       "        vertical-align: middle;\n",
       "    }\n",
       "\n",
       "    .dataframe tbody tr th {\n",
       "        vertical-align: top;\n",
       "    }\n",
       "\n",
       "    .dataframe thead th {\n",
       "        text-align: right;\n",
       "    }\n",
       "</style>\n",
       "<table border=\"1\" class=\"dataframe\">\n",
       "  <thead>\n",
       "    <tr style=\"text-align: right;\">\n",
       "      <th></th>\n",
       "      <th>0</th>\n",
       "    </tr>\n",
       "  </thead>\n",
       "  <tbody>\n",
       "    <tr>\n",
       "      <th>0</th>\n",
       "      <td>yhat</td>\n",
       "    </tr>\n",
       "  </tbody>\n",
       "</table>\n",
       "</div>"
      ],
      "text/plain": [
       "      0\n",
       "0  yhat"
      ]
     },
     "execution_count": 306,
     "metadata": {},
     "output_type": "execute_result"
    }
   ],
   "source": [
    "yhat= pd.DataFrame(['yhat'])\n"
   ]
  },
  {
   "cell_type": "code",
   "execution_count": 282,
   "metadata": {},
   "outputs": [
    {
     "name": "stdout",
     "output_type": "stream",
     "text": [
      "predicted values:  [-21.48332312  12.31859866  45.18320588   0.69999998]\n",
      "true values:  [1.16 0.62 1.15 0.68]\n"
     ]
    }
   ],
   "source": [
    "print('predicted values: ', yhat[0:4])\n",
    "print('true values: ', y_test[0:4].values)"
   ]
  },
  {
   "cell_type": "code",
   "execution_count": 283,
   "metadata": {},
   "outputs": [],
   "source": [
    "## defining the pollyplot function\n",
    "def PollyPlot(xtrain, xtest, y_train, y_test, lr,poly_transform):\n",
    "    width = 12\n",
    "    height = 10\n",
    "    plt.figure(figsize=(width, height))\n",
    "    \n",
    "    \n",
    "    #training data \n",
    "    #testing data \n",
    "    # lr:  linear regression object \n",
    "    #poly_transform:  polynomial transformation object \n",
    " \n",
    "    xmax=max([xtrain.values.max(), xtest.values.max()])\n",
    "\n",
    "    xmin=min([xtrain.values.min(), xtest.values.min()])\n",
    "\n",
    "    x=np.arange(xmin, xmax, 0.1)\n",
    "\n",
    "\n",
    "    plt.plot(xtrain, y_train, 'ro', label='Training Data')\n",
    "    plt.plot(xtest, y_test, 'go', label='Test Data')\n",
    "    plt.plot(x, lr.predict(poly_transform.fit_transform(x.reshape(-1, 1))), label='Predicted Function')\n",
    "    plt.ylim([-10000, 60000])\n",
    "    plt.ylabel('SGR')\n",
    "    plt.legend()"
   ]
  },
  {
   "cell_type": "code",
   "execution_count": 284,
   "metadata": {},
   "outputs": [
    {
     "data": {
      "image/png": "[encoded data removed]",
      "text/plain": [
       "<Figure size 864x720 with 1 Axes>"
      ]
     },
     "metadata": {
      "needs_background": "light"
     },
     "output_type": "display_data"
    }
   ],
   "source": [
    "PollyPlot(x_train[['SGR']], x_test[['SGR']], y_train, y_test, poly, pr)"
   ]
  },
  {
   "cell_type": "code",
   "execution_count": 285,
   "metadata": {},
   "outputs": [
    {
     "data": {
      "text/plain": [
       "0.9999999999999992"
      ]
     },
     "execution_count": 285,
     "metadata": {},
     "output_type": "execute_result"
    }
   ],
   "source": [
    "poly.score(x_train_pr, y_train)"
   ]
  },
  {
   "cell_type": "code",
   "execution_count": 286,
   "metadata": {},
   "outputs": [
    {
     "data": {
      "text/plain": [
       "-8531.691745847196"
      ]
     },
     "execution_count": 286,
     "metadata": {},
     "output_type": "execute_result"
    }
   ],
   "source": [
    "poly.score(x_test_pr, y_test)"
   ]
  },
  {
   "cell_type": "code",
   "execution_count": 287,
   "metadata": {},
   "outputs": [
    {
     "data": {
      "text/plain": [
       "Text(3, 0.75, 'Maximum R^2 ')"
      ]
     },
     "execution_count": 287,
     "metadata": {},
     "output_type": "execute_result"
    },
    {
     "data": {
      "image/png": "[encoded data removed]",
      "text/plain": [
       "<Figure size 432x288 with 1 Axes>"
      ]
     },
     "metadata": {
      "needs_background": "light"
     },
     "output_type": "display_data"
    }
   ],
   "source": [
    "Rsqu_test = []\n",
    "\n",
    "order = range(1, 10)\n",
    "for n in order:\n",
    "    pr = PolynomialFeatures(degree=n)\n",
    "    \n",
    "    x_train_pr = pr.fit_transform(x_train[['SGR']])\n",
    "    \n",
    "    x_test_pr = pr.fit_transform(x_test[['SGR']])    \n",
    "    \n",
    "    lr.fit(x_train_pr, y_train)\n",
    "    \n",
    "    Rsqu_test.append(lr.score(x_test_pr, y_test))\n",
    "\n",
    "plt.plot(order, Rsqu_test)\n",
    "plt.xlabel('order')\n",
    "plt.ylabel('R^2')\n",
    "plt.title('R^2 Using Test Data')\n",
    "plt.text(3, 0.75, 'Maximum R^2 ')  "
   ]
  },
  {
   "cell_type": "code",
   "execution_count": null,
   "metadata": {},
   "outputs": [],
   "source": []
  }
 ],
 "metadata": {
  "kernelspec": {
   "display_name": "Python 3",
   "language": "python",
   "name": "python3"
  },
  "language_info": {
   "codemirror_mode": {
    "name": "ipython",
    "version": 3
   },
   "file_extension": ".py",
   "mimetype": "text/x-python",
   "name": "python",
   "nbconvert_exporter": "python",
   "pygments_lexer": "ipython3",
   "version": "3.7.6"
  }
 },
 "nbformat": 4,
 "nbformat_minor": 4
}
